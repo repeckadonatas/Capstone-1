{
 "cells": [
  {
   "cell_type": "code",
   "execution_count": 2,
   "metadata": {},
   "outputs": [],
   "source": [
    "import os\n",
    "import pandas as pd\n",
    "import numpy as np\n",
    "from ast import literal_eval"
   ]
  },
  {
   "cell_type": "markdown",
   "metadata": {},
   "source": [
    "## Basic functions to manipulate a dataframe"
   ]
  },
  {
   "cell_type": "code",
   "execution_count": 3,
   "metadata": {},
   "outputs": [],
   "source": [
    "def path_to_files():\n",
    "    '''\n",
    "    Printing out the files in a directory of choice for convenience.\n",
    "    '''\n",
    "    path = input('Enter a path to the files: ')\n",
    "    files_path = os.scandir(path)\n",
    "\n",
    "    for file in files_path:\n",
    "        if file.is_dir() or file.is_file():\n",
    "            print(file.name)"
   ]
  },
  {
   "cell_type": "code",
   "execution_count": 4,
   "metadata": {},
   "outputs": [],
   "source": [
    "def open_dataframe(file_path, file_name):\n",
    "    '''\n",
    "    Opens a CSV file and sets the maximum available columns to be shown.\n",
    "    Requires path to file and name of the file.\n",
    "    Returns a dataframe of the file.\n",
    "    '''\n",
    "    df = pd.read_csv(file_path + '/' + file_name)\n",
    "    pd.set_option('display.max_columns', None)\n",
    "    return df"
   ]
  },
  {
   "cell_type": "code",
   "execution_count": 5,
   "metadata": {},
   "outputs": [],
   "source": [
    "def inspect_dataframe(dataframe):\n",
    "    '''\n",
    "    Returns information about the dataset \n",
    "    and shows a preview of the data in it.\n",
    "    '''\n",
    "    print(dataframe.info(), '\\n')\n",
    "    print(dataframe.head())"
   ]
  },
  {
   "cell_type": "code",
   "execution_count": 6,
   "metadata": {},
   "outputs": [],
   "source": [
    "def list_like_columns(dataframe):\n",
    "    '''\n",
    "    Creating a list where columns have list-like values.\n",
    "    '''\n",
    "    list_like_cols = []\n",
    "\n",
    "    for row in dataframe:\n",
    "        col_name = row\n",
    "        empty_list = dataframe[dataframe.astype(str)[row] == '[]'].index\n",
    "        if len(empty_list) != 0:\n",
    "            list_like_cols.append(col_name)\n",
    "    \n",
    "    return list_like_cols"
   ]
  },
  {
   "cell_type": "code",
   "execution_count": 7,
   "metadata": {},
   "outputs": [],
   "source": [
    "def to_proper_list(dataframe, list_like_columns):\n",
    "    '''\n",
    "    Converting values of list-like columns to proper list type.\n",
    "    '''\n",
    "    for row in list_like_columns:\n",
    "        dataframe[row] = dataframe[row].apply(literal_eval)\n",
    "    \n",
    "    return dataframe"
   ]
  },
  {
   "cell_type": "code",
   "execution_count": 8,
   "metadata": {},
   "outputs": [],
   "source": [
    "def copy_and_explode(dataframe, *columns):\n",
    "    '''\n",
    "    Normalizing to the 2NF.\n",
    "    Creating new dataframes containing str-list columns.\n",
    "    Exploding list values of columns.\n",
    "    Recreating the index column if the original dataset had one\n",
    "    to keep unique index in the dataframe.\n",
    "    Saving new dataframe to a CSV file.\n",
    "    '''\n",
    "    df_copy = dataframe.copy()\n",
    "    col_list = [*columns]\n",
    "    \n",
    "\n",
    "    for col in col_list:\n",
    "        if isinstance(col_list, (list, pd.core.series.Series, np.ndarray)):\n",
    "            df_copy = df_copy.explode(col)\n",
    "            df_copy[col].replace(',', '', regex=True, inplace=True)\n",
    "            df_copy = df_copy.explode(col)\n",
    "        else:\n",
    "            df_copy\n",
    "    \n",
    "    df_copy = df_copy.drop_duplicates()\n",
    "       \n",
    "    new_df_name = input('Enter a name for a normalized dataset: ')\n",
    "    df_copy.to_csv(f'../data/output/{new_df_name}_2NF.csv', sep=',', encoding='utf-8', index=None, header='true')"
   ]
  },
  {
   "cell_type": "code",
   "execution_count": 9,
   "metadata": {},
   "outputs": [],
   "source": [
    "def save_to_csv(dataframe):\n",
    "    '''\n",
    "    Save the dataframes as CSV files.\n",
    "    Requires path to save location\n",
    "    and name of the file to save as.\n",
    "    '''\n",
    "    path_to_save = input('Path to save location: ')\n",
    "    name_of_file = input('File name: ')\n",
    "    dataframe.to_csv(f'{path_to_save}/{name_of_file}.csv', sep=',', encoding='utf-8', index=None, header='true')"
   ]
  },
  {
   "cell_type": "markdown",
   "metadata": {},
   "source": [
    "## Finding the longest value in each column of a given dataframe"
   ]
  },
  {
   "cell_type": "code",
   "execution_count": 10,
   "metadata": {},
   "outputs": [],
   "source": [
    "def longest_value(dataframe):\n",
    "    '''\n",
    "    Checking for the longest string in each column of a given CSV file.\n",
    "    '''\n",
    "    for row in dataframe:\n",
    "        col_name = row\n",
    "        row_pos = dataframe[row].astype(str).str.len().idxmax(axis=1)\n",
    "\n",
    "        if dataframe[row].dtype == float or int:\n",
    "            list_len = dataframe[row].astype(str).str.len().max()\n",
    "\n",
    "        else:\n",
    "            list_len = max(list(map(len, dataframe[row].values)))\n",
    "\n",
    "        print('Column:', col_name)\n",
    "        print('Value length:', list_len,)\n",
    "        print('Row possition:', row_pos, '\\n')"
   ]
  },
  {
   "cell_type": "markdown",
   "metadata": {},
   "source": [
    "## Files in ../data/input location"
   ]
  },
  {
   "cell_type": "code",
   "execution_count": 247,
   "metadata": {},
   "outputs": [
    {
     "name": "stdout",
     "output_type": "stream",
     "text": [
      "Enter a path to the files: ../data/input\n",
      "Best Movie by Year Netflix.csv\n",
      "Best Movies Netflix.csv\n",
      "Best Show by Year Netflix.csv\n",
      "Best Shows Netflix.csv\n",
      "raw_credits.csv\n",
      "raw_titles.csv\n"
     ]
    }
   ],
   "source": [
    "input_files = path_to_files()"
   ]
  },
  {
   "cell_type": "markdown",
   "metadata": {},
   "source": [
    "## DF1: Best Movie by Year Netflix.csv"
   ]
  },
  {
   "cell_type": "code",
   "execution_count": 13,
   "metadata": {},
   "outputs": [],
   "source": [
    "df = open_dataframe('../data/input', 'Best Movie by Year Netflix.csv')"
   ]
  },
  {
   "cell_type": "code",
   "execution_count": 14,
   "metadata": {},
   "outputs": [
    {
     "name": "stdout",
     "output_type": "stream",
     "text": [
      "<class 'pandas.core.frame.DataFrame'>\n",
      "RangeIndex: 49 entries, 0 to 48\n",
      "Data columns (total 6 columns):\n",
      " #   Column           Non-Null Count  Dtype  \n",
      "---  ------           --------------  -----  \n",
      " 0   index            49 non-null     int64  \n",
      " 1   TITLE            49 non-null     object \n",
      " 2   RELEASE_YEAR     49 non-null     int64  \n",
      " 3   SCORE            49 non-null     float64\n",
      " 4   MAIN_GENRE       49 non-null     object \n",
      " 5   MAIN_PRODUCTION  49 non-null     object \n",
      "dtypes: float64(1), int64(2), object(3)\n",
      "memory usage: 2.4+ KB\n",
      "None \n",
      "\n",
      "   index                 TITLE  RELEASE_YEAR  SCORE MAIN_GENRE MAIN_PRODUCTION\n",
      "0      0       White Christmas          1954    7.5    romance              US\n",
      "1      1  The Guns of Navarone          1961    7.5        war              US\n",
      "2      2          My Fair Lady          1964    7.8      drama              US\n",
      "3      3      Bonnie and Clyde          1967    7.7      drama              US\n",
      "4      4           Dirty Harry          1971    7.7   thriller              US\n"
     ]
    }
   ],
   "source": [
    "df_info = inspect_dataframe(df)"
   ]
  },
  {
   "cell_type": "code",
   "execution_count": 15,
   "metadata": {},
   "outputs": [
    {
     "data": {
      "text/plain": [
       "False    49\n",
       "dtype: int64"
      ]
     },
     "execution_count": 15,
     "metadata": {},
     "output_type": "execute_result"
    }
   ],
   "source": [
    "# Checking if there are duplicate rows\n",
    "\n",
    "df.duplicated().value_counts()"
   ]
  },
  {
   "cell_type": "code",
   "execution_count": 16,
   "metadata": {},
   "outputs": [],
   "source": [
    "# Dropping duplicate rows\n",
    "\n",
    "df = df.drop_duplicates()"
   ]
  },
  {
   "cell_type": "code",
   "execution_count": 17,
   "metadata": {},
   "outputs": [
    {
     "data": {
      "text/plain": [
       "array(['US', 'US', 'US', 'US', 'US', 'US', 'GB', 'US', 'GB', 'US', 'US',\n",
       "       'US', 'US', 'US', 'GB', 'US', 'US', 'US', 'US', 'US', 'US', 'US',\n",
       "       'US', 'JP', 'US', 'US', 'DE', 'IN', 'US', 'US', 'IN', 'FR', 'IN',\n",
       "       'IN', 'HK', 'IN', 'GB', 'US', 'US', 'US', 'IN', 'IN', 'IN', 'IN',\n",
       "       'IN', 'US', 'GB', 'US', 'GB'], dtype=object)"
      ]
     },
     "execution_count": 17,
     "metadata": {},
     "output_type": "execute_result"
    }
   ],
   "source": [
    "df['MAIN_PRODUCTION'].values"
   ]
  },
  {
   "cell_type": "code",
   "execution_count": 18,
   "metadata": {},
   "outputs": [
    {
     "name": "stdout",
     "output_type": "stream",
     "text": [
      "Column: index\n",
      "Value length: 2\n",
      "Row possition: 10 \n",
      "\n",
      "Column: TITLE\n",
      "Value length: 46\n",
      "Row possition: 23 \n",
      "\n",
      "Column: RELEASE_YEAR\n",
      "Value length: 4\n",
      "Row possition: 0 \n",
      "\n",
      "Column: SCORE\n",
      "Value length: 3\n",
      "Row possition: 0 \n",
      "\n",
      "Column: MAIN_GENRE\n",
      "Value length: 11\n",
      "Row possition: 46 \n",
      "\n",
      "Column: MAIN_PRODUCTION\n",
      "Value length: 2\n",
      "Row possition: 0 \n",
      "\n"
     ]
    }
   ],
   "source": [
    "# Finding the longest value in every column.\n",
    "\n",
    "df_val_len = longest_value(df)"
   ]
  },
  {
   "cell_type": "code",
   "execution_count": 20,
   "metadata": {},
   "outputs": [
    {
     "name": "stdout",
     "output_type": "stream",
     "text": [
      "Path to save location: ../data/output\n",
      "File name: best_movie_by_year_2nf\n"
     ]
    }
   ],
   "source": [
    "# Saving to the '../data/output' folder\n",
    "\n",
    "df_csv = save_to_csv(df)"
   ]
  },
  {
   "cell_type": "markdown",
   "metadata": {},
   "source": [
    "## DF2: Best Movies Netflix.csv"
   ]
  },
  {
   "cell_type": "code",
   "execution_count": 21,
   "metadata": {},
   "outputs": [],
   "source": [
    "df2 = open_dataframe('../data/input', 'Best Movies Netflix.csv')"
   ]
  },
  {
   "cell_type": "code",
   "execution_count": 22,
   "metadata": {},
   "outputs": [
    {
     "name": "stdout",
     "output_type": "stream",
     "text": [
      "<class 'pandas.core.frame.DataFrame'>\n",
      "RangeIndex: 387 entries, 0 to 386\n",
      "Data columns (total 8 columns):\n",
      " #   Column           Non-Null Count  Dtype  \n",
      "---  ------           --------------  -----  \n",
      " 0   index            387 non-null    int64  \n",
      " 1   TITLE            387 non-null    object \n",
      " 2   RELEASE_YEAR     387 non-null    int64  \n",
      " 3   SCORE            387 non-null    float64\n",
      " 4   NUMBER_OF_VOTES  387 non-null    int64  \n",
      " 5   DURATION         387 non-null    int64  \n",
      " 6   MAIN_GENRE       387 non-null    object \n",
      " 7   MAIN_PRODUCTION  387 non-null    object \n",
      "dtypes: float64(1), int64(4), object(3)\n",
      "memory usage: 24.3+ KB\n",
      "None \n",
      "\n",
      "   index                                     TITLE  RELEASE_YEAR  SCORE  \\\n",
      "0      0  David Attenborough: A Life on Our Planet          2020    9.0   \n",
      "1      1                                 Inception          2010    8.8   \n",
      "2      2                              Forrest Gump          1994    8.8   \n",
      "3      3                                Anbe Sivam          2003    8.7   \n",
      "4      4                        Bo Burnham: Inside          2021    8.7   \n",
      "\n",
      "   NUMBER_OF_VOTES  DURATION   MAIN_GENRE MAIN_PRODUCTION  \n",
      "0            31180        83  documentary              GB  \n",
      "1          2268288       148        scifi              GB  \n",
      "2          1994599       142        drama              US  \n",
      "3            20595       160       comedy              IN  \n",
      "4            44074        87       comedy              US  \n"
     ]
    }
   ],
   "source": [
    "df2_info = inspect_dataframe(df2)"
   ]
  },
  {
   "cell_type": "code",
   "execution_count": 23,
   "metadata": {},
   "outputs": [
    {
     "data": {
      "text/plain": [
       "False    387\n",
       "dtype: int64"
      ]
     },
     "execution_count": 23,
     "metadata": {},
     "output_type": "execute_result"
    }
   ],
   "source": [
    "df2.duplicated().value_counts()"
   ]
  },
  {
   "cell_type": "code",
   "execution_count": 24,
   "metadata": {},
   "outputs": [
    {
     "data": {
      "text/plain": [
       "array(['GB', 'US', 'IN', 'UA', 'CD', 'TR', 'ES', 'AU', 'JP', 'ZA', 'HK',\n",
       "       'DE', 'KR', 'CA', 'BE', 'NO', 'NZ', 'MX', 'FR', 'MW', 'TH', 'AR',\n",
       "       'PS', 'HU', 'IT', 'CN', 'PL', 'KH', 'IE', 'BR', 'XX', 'LT', 'NL',\n",
       "       'DK', 'ID'], dtype=object)"
      ]
     },
     "execution_count": 24,
     "metadata": {},
     "output_type": "execute_result"
    }
   ],
   "source": [
    "df2['MAIN_PRODUCTION'].unique()"
   ]
  },
  {
   "cell_type": "code",
   "execution_count": 25,
   "metadata": {},
   "outputs": [
    {
     "name": "stdout",
     "output_type": "stream",
     "text": [
      "Column: index\n",
      "Value length: 3\n",
      "Row possition: 100 \n",
      "\n",
      "Column: TITLE\n",
      "Value length: 104\n",
      "Row possition: 121 \n",
      "\n",
      "Column: RELEASE_YEAR\n",
      "Value length: 4\n",
      "Row possition: 0 \n",
      "\n",
      "Column: SCORE\n",
      "Value length: 3\n",
      "Row possition: 0 \n",
      "\n",
      "Column: NUMBER_OF_VOTES\n",
      "Value length: 7\n",
      "Row possition: 1 \n",
      "\n",
      "Column: DURATION\n",
      "Value length: 3\n",
      "Row possition: 1 \n",
      "\n",
      "Column: MAIN_GENRE\n",
      "Value length: 11\n",
      "Row possition: 0 \n",
      "\n",
      "Column: MAIN_PRODUCTION\n",
      "Value length: 2\n",
      "Row possition: 0 \n",
      "\n"
     ]
    }
   ],
   "source": [
    "df2_val_len = longest_value(df2)"
   ]
  },
  {
   "cell_type": "code",
   "execution_count": 26,
   "metadata": {},
   "outputs": [
    {
     "name": "stdout",
     "output_type": "stream",
     "text": [
      "Path to save location: ../data/output\n",
      "File name: best_movies_2nf\n"
     ]
    }
   ],
   "source": [
    "df2_csv = save_to_csv(df2)"
   ]
  },
  {
   "cell_type": "markdown",
   "metadata": {},
   "source": [
    "## DF3: Best Show by Year Netflix.csv"
   ]
  },
  {
   "cell_type": "code",
   "execution_count": 27,
   "metadata": {},
   "outputs": [],
   "source": [
    "df3 = open_dataframe('../data/input', 'Best Show by Year Netflix.csv')"
   ]
  },
  {
   "cell_type": "code",
   "execution_count": 28,
   "metadata": {},
   "outputs": [
    {
     "name": "stdout",
     "output_type": "stream",
     "text": [
      "<class 'pandas.core.frame.DataFrame'>\n",
      "RangeIndex: 31 entries, 0 to 30\n",
      "Data columns (total 7 columns):\n",
      " #   Column             Non-Null Count  Dtype  \n",
      "---  ------             --------------  -----  \n",
      " 0   index              31 non-null     int64  \n",
      " 1   TITLE              31 non-null     object \n",
      " 2   RELEASE_YEAR       31 non-null     int64  \n",
      " 3   SCORE              31 non-null     float64\n",
      " 4   NUMBER_OF_SEASONS  31 non-null     int64  \n",
      " 5   MAIN_GENRE         31 non-null     object \n",
      " 6   MAIN_PRODUCTION    31 non-null     object \n",
      "dtypes: float64(1), int64(3), object(3)\n",
      "memory usage: 1.8+ KB\n",
      "None \n",
      "\n",
      "   index                         TITLE  RELEASE_YEAR  SCORE  \\\n",
      "0      0  Monty Python's Flying Circus          1969    8.8   \n",
      "1      1                  Knight Rider          1982    6.9   \n",
      "2      2                      Seinfeld          1989    8.9   \n",
      "3      3    Star Trek: Deep Space Nine          1993    8.1   \n",
      "4      4       Neon Genesis Evangelion          1995    8.5   \n",
      "\n",
      "   NUMBER_OF_SEASONS MAIN_GENRE MAIN_PRODUCTION  \n",
      "0                  4     comedy              GB  \n",
      "1                  4     action              US  \n",
      "2                  9     comedy              US  \n",
      "3                  7      scifi              US  \n",
      "4                  1      scifi              JP  \n"
     ]
    }
   ],
   "source": [
    "df3_info = inspect_dataframe(df3)"
   ]
  },
  {
   "cell_type": "code",
   "execution_count": 29,
   "metadata": {},
   "outputs": [
    {
     "data": {
      "text/plain": [
       "False    31\n",
       "dtype: int64"
      ]
     },
     "execution_count": 29,
     "metadata": {},
     "output_type": "execute_result"
    }
   ],
   "source": [
    "df3.duplicated().value_counts()"
   ]
  },
  {
   "cell_type": "code",
   "execution_count": 30,
   "metadata": {},
   "outputs": [
    {
     "data": {
      "text/plain": [
       "array(['GB', 'US', 'US', 'US', 'JP', 'US', 'JP', 'JP', 'US', 'CA', 'JP',\n",
       "       'US', 'US', 'US', 'JP', 'US', 'US', 'US', 'GB', 'JP', 'GB', 'JP',\n",
       "       'US', 'US', 'US', 'CA', 'US', 'IN', 'US', 'US', 'GB'], dtype=object)"
      ]
     },
     "execution_count": 30,
     "metadata": {},
     "output_type": "execute_result"
    }
   ],
   "source": [
    "df3['MAIN_PRODUCTION'].values"
   ]
  },
  {
   "cell_type": "code",
   "execution_count": 31,
   "metadata": {},
   "outputs": [
    {
     "name": "stdout",
     "output_type": "stream",
     "text": [
      "Column: index\n",
      "Value length: 2\n",
      "Row possition: 10 \n",
      "\n",
      "Column: TITLE\n",
      "Value length: 28\n",
      "Row possition: 0 \n",
      "\n",
      "Column: RELEASE_YEAR\n",
      "Value length: 4\n",
      "Row possition: 0 \n",
      "\n",
      "Column: SCORE\n",
      "Value length: 3\n",
      "Row possition: 0 \n",
      "\n",
      "Column: NUMBER_OF_SEASONS\n",
      "Value length: 2\n",
      "Row possition: 5 \n",
      "\n",
      "Column: MAIN_GENRE\n",
      "Value length: 11\n",
      "Row possition: 28 \n",
      "\n",
      "Column: MAIN_PRODUCTION\n",
      "Value length: 2\n",
      "Row possition: 0 \n",
      "\n"
     ]
    }
   ],
   "source": [
    "df3_val_len = longest_value(df3)"
   ]
  },
  {
   "cell_type": "code",
   "execution_count": 32,
   "metadata": {},
   "outputs": [
    {
     "name": "stdout",
     "output_type": "stream",
     "text": [
      "Path to save location: ../data/output\n",
      "File name: best_show_by_year_2nf\n"
     ]
    }
   ],
   "source": [
    "df3_csv = save_to_csv(df3)"
   ]
  },
  {
   "cell_type": "markdown",
   "metadata": {},
   "source": [
    "## DF4: Best Shows Netflix.csv"
   ]
  },
  {
   "cell_type": "code",
   "execution_count": 33,
   "metadata": {},
   "outputs": [],
   "source": [
    "df4 = open_dataframe('../data/input', 'Best Shows Netflix.csv')"
   ]
  },
  {
   "cell_type": "code",
   "execution_count": 34,
   "metadata": {},
   "outputs": [
    {
     "name": "stdout",
     "output_type": "stream",
     "text": [
      "<class 'pandas.core.frame.DataFrame'>\n",
      "RangeIndex: 246 entries, 0 to 245\n",
      "Data columns (total 9 columns):\n",
      " #   Column             Non-Null Count  Dtype  \n",
      "---  ------             --------------  -----  \n",
      " 0   index              246 non-null    int64  \n",
      " 1   TITLE              246 non-null    object \n",
      " 2   RELEASE_YEAR       246 non-null    int64  \n",
      " 3   SCORE              246 non-null    float64\n",
      " 4   NUMBER_OF_VOTES    246 non-null    int64  \n",
      " 5   DURATION           246 non-null    int64  \n",
      " 6   NUMBER_OF_SEASONS  246 non-null    int64  \n",
      " 7   MAIN_GENRE         246 non-null    object \n",
      " 8   MAIN_PRODUCTION    246 non-null    object \n",
      "dtypes: float64(1), int64(5), object(3)\n",
      "memory usage: 17.4+ KB\n",
      "None \n",
      "\n",
      "   index                       TITLE  RELEASE_YEAR  SCORE  NUMBER_OF_VOTES  \\\n",
      "0      0                Breaking Bad          2008    9.5          1727694   \n",
      "1      1  Avatar: The Last Airbender          2005    9.3           297336   \n",
      "2      2                  Our Planet          2019    9.3            41386   \n",
      "3      3                Kota Factory          2019    9.3            66985   \n",
      "4      4              The Last Dance          2020    9.1           108321   \n",
      "\n",
      "   DURATION  NUMBER_OF_SEASONS   MAIN_GENRE MAIN_PRODUCTION  \n",
      "0        48                  5        drama              US  \n",
      "1        24                  3        scifi              US  \n",
      "2        50                  1  documentary              GB  \n",
      "3        42                  2        drama              IN  \n",
      "4        50                  1  documentary              US  \n"
     ]
    }
   ],
   "source": [
    "df4_info = inspect_dataframe(df4)"
   ]
  },
  {
   "cell_type": "code",
   "execution_count": 35,
   "metadata": {},
   "outputs": [
    {
     "data": {
      "text/plain": [
       "False    246\n",
       "dtype: int64"
      ]
     },
     "execution_count": 35,
     "metadata": {},
     "output_type": "execute_result"
    }
   ],
   "source": [
    "df4.duplicated().value_counts()"
   ]
  },
  {
   "cell_type": "code",
   "execution_count": 36,
   "metadata": {},
   "outputs": [
    {
     "data": {
      "text/plain": [
       "array(['US', 'US', 'GB', 'IN', 'US', 'US', 'JP', 'JP', 'JP', 'US', 'JP',\n",
       "       'GB', 'US', 'GB', 'US', 'US', 'US', 'US', 'JP', 'GB', 'CA', 'DE',\n",
       "       'US', 'JP', 'US', 'JP', 'US', 'US', 'US', 'GB', 'JP', 'CA', 'US',\n",
       "       'US', 'US', 'US', 'AU', 'KR', 'US', 'US', 'IN', 'GB', 'US', 'US',\n",
       "       'GB', 'CA', 'JP', 'GB', 'GB', 'JP', 'US', 'US', 'IN', 'GB', 'GB',\n",
       "       'DK', 'US', 'CA', 'US', 'JP', 'GB', 'TR', 'US', 'US', 'US', 'GB',\n",
       "       'KR', 'GB', 'DE', 'US', 'JP', 'US', 'US', 'US', 'US', 'JP', 'US',\n",
       "       'IL', 'GB', 'KR', 'ES', 'SE', 'US', 'JP', 'US', 'US', 'CA', 'US',\n",
       "       'US', 'FR', 'US', 'US', 'US', 'US', 'KR', 'US', 'US', 'US', 'ES',\n",
       "       'US', 'SE', 'JP', 'US', 'JP', 'US', 'US', 'GB', 'JP', 'US', 'GB',\n",
       "       'US', 'GB', 'US', 'US', 'US', 'US', 'US', 'GB', 'US', 'US', 'US',\n",
       "       'US', 'US', 'BE', 'US', 'BR', 'KR', 'JP', 'US', 'US', 'CA', 'US',\n",
       "       'DE', 'US', 'US', 'GB', 'JP', 'US', 'JP', 'US', 'US', 'GB', 'JP',\n",
       "       'US', 'US', 'TR', 'CA', 'NO', 'KR', 'US', 'IT', 'US', 'FR', 'US',\n",
       "       'DE', 'TR', 'US', 'CA', 'US', 'US', 'US', 'CA', 'US', 'US', 'US',\n",
       "       'US', 'US', 'US', 'KR', 'US', 'US', 'US', 'US', 'US', 'BE', 'US',\n",
       "       'ES', 'FR', 'GB', 'JP', 'US', 'US', 'US', 'US', 'CA', 'US', 'NO',\n",
       "       'US', 'US', 'DK', 'GB', 'US', 'US', 'FR', 'NO', 'US', 'GB', 'JP',\n",
       "       'US', 'US', 'US', 'US', 'US', 'CA', 'US', 'FI', 'US', 'US', 'US',\n",
       "       'US', 'ES', 'GB', 'JP', 'US', 'JP', 'US', 'GB', 'US', 'CA', 'TR',\n",
       "       'US', 'US', 'JP', 'US', 'US', 'US', 'US', 'KR', 'US', 'NO', 'US',\n",
       "       'US', 'CA', 'US', 'US', 'US', 'US', 'US', 'SE', 'GB', 'DE', 'US',\n",
       "       'US', 'FR', 'KR', 'US'], dtype=object)"
      ]
     },
     "execution_count": 36,
     "metadata": {},
     "output_type": "execute_result"
    }
   ],
   "source": [
    "df4['MAIN_PRODUCTION'].values"
   ]
  },
  {
   "cell_type": "code",
   "execution_count": 37,
   "metadata": {},
   "outputs": [
    {
     "name": "stdout",
     "output_type": "stream",
     "text": [
      "Column: index\n",
      "Value length: 3\n",
      "Row possition: 100 \n",
      "\n",
      "Column: TITLE\n",
      "Value length: 48\n",
      "Row possition: 120 \n",
      "\n",
      "Column: RELEASE_YEAR\n",
      "Value length: 4\n",
      "Row possition: 0 \n",
      "\n",
      "Column: SCORE\n",
      "Value length: 3\n",
      "Row possition: 0 \n",
      "\n",
      "Column: NUMBER_OF_VOTES\n",
      "Value length: 7\n",
      "Row possition: 0 \n",
      "\n",
      "Column: DURATION\n",
      "Value length: 3\n",
      "Row possition: 216 \n",
      "\n",
      "Column: NUMBER_OF_SEASONS\n",
      "Value length: 2\n",
      "Row possition: 18 \n",
      "\n",
      "Column: MAIN_GENRE\n",
      "Value length: 11\n",
      "Row possition: 2 \n",
      "\n",
      "Column: MAIN_PRODUCTION\n",
      "Value length: 2\n",
      "Row possition: 0 \n",
      "\n"
     ]
    }
   ],
   "source": [
    "df4_val_len = longest_value(df4)"
   ]
  },
  {
   "cell_type": "code",
   "execution_count": 38,
   "metadata": {},
   "outputs": [
    {
     "name": "stdout",
     "output_type": "stream",
     "text": [
      "Path to save location: ../data/output\n",
      "File name: best_shows_2nf\n"
     ]
    }
   ],
   "source": [
    "df4_csv = save_to_csv(df4)"
   ]
  },
  {
   "cell_type": "markdown",
   "metadata": {},
   "source": [
    "## DF5: raw_credits.csv"
   ]
  },
  {
   "cell_type": "code",
   "execution_count": 118,
   "metadata": {},
   "outputs": [],
   "source": [
    "df5 = open_dataframe('../data/input', 'raw_credits.csv')"
   ]
  },
  {
   "cell_type": "code",
   "execution_count": 119,
   "metadata": {},
   "outputs": [
    {
     "name": "stdout",
     "output_type": "stream",
     "text": [
      "<class 'pandas.core.frame.DataFrame'>\n",
      "RangeIndex: 77213 entries, 0 to 77212\n",
      "Data columns (total 6 columns):\n",
      " #   Column     Non-Null Count  Dtype \n",
      "---  ------     --------------  ----- \n",
      " 0   index      77213 non-null  int64 \n",
      " 1   person_id  77213 non-null  int64 \n",
      " 2   id         77213 non-null  object\n",
      " 3   name       77213 non-null  object\n",
      " 4   character  67586 non-null  object\n",
      " 5   role       77213 non-null  object\n",
      "dtypes: int64(2), object(4)\n",
      "memory usage: 3.5+ MB\n",
      "None \n",
      "\n",
      "   index  person_id       id             name                character   role\n",
      "0      0       3748  tm84618   Robert De Niro            Travis Bickle  ACTOR\n",
      "1      1      14658  tm84618     Jodie Foster            Iris Steensma  ACTOR\n",
      "2      2       7064  tm84618    Albert Brooks                      Tom  ACTOR\n",
      "3      3       3739  tm84618    Harvey Keitel  Matthew 'Sport' Higgins  ACTOR\n",
      "4      4      48933  tm84618  Cybill Shepherd                    Betsy  ACTOR\n"
     ]
    }
   ],
   "source": [
    "df5_info = inspect_dataframe(df5)"
   ]
  },
  {
   "cell_type": "code",
   "execution_count": 120,
   "metadata": {},
   "outputs": [
    {
     "data": {
      "text/plain": [
       "False    77213\n",
       "dtype: int64"
      ]
     },
     "execution_count": 120,
     "metadata": {},
     "output_type": "execute_result"
    }
   ],
   "source": [
    "df5.duplicated().value_counts()"
   ]
  },
  {
   "cell_type": "code",
   "execution_count": 121,
   "metadata": {},
   "outputs": [
    {
     "data": {
      "text/plain": [
       "Self                         1667\n",
       "Himself                      1237\n",
       "Herself                       444\n",
       "Self (archive footage)        327\n",
       "Dancer                        168\n",
       "                             ... \n",
       "Cai Minmin                      1\n",
       "Toru Miyake                     1\n",
       "Mattie Ross                     1\n",
       "Custum officer at airport       1\n",
       "Young Gallery Man               1\n",
       "Name: character, Length: 47125, dtype: int64"
      ]
     },
     "execution_count": 121,
     "metadata": {},
     "output_type": "execute_result"
    }
   ],
   "source": [
    "df5['character'].value_counts()"
   ]
  },
  {
   "cell_type": "code",
   "execution_count": 122,
   "metadata": {},
   "outputs": [],
   "source": [
    "df5['character'] = df5['character'].str.split(\"/\")\n",
    "df5 = df5.explode('character')"
   ]
  },
  {
   "cell_type": "code",
   "execution_count": 142,
   "metadata": {},
   "outputs": [
    {
     "data": {
      "text/plain": [
       "Self                      1667\n",
       "Himself                   1237\n",
       "Herself                    444\n",
       "Self (archive footage)     327\n",
       "Dancer                     168\n",
       "                          ... \n",
       "Sigrit Ericksdottir          1\n",
       "Elle                         1\n",
       "Doctor (End of Life)         1\n",
       "Cool Sunnyvale Camper        1\n",
       "Young Gallery Man            1\n",
       "Name: character, Length: 48547, dtype: int64"
      ]
     },
     "execution_count": 142,
     "metadata": {},
     "output_type": "execute_result"
    }
   ],
   "source": [
    "df5['character'].value_counts()"
   ]
  },
  {
   "cell_type": "code",
   "execution_count": 143,
   "metadata": {},
   "outputs": [
    {
     "data": {
      "text/html": [
       "<div>\n",
       "<style scoped>\n",
       "    .dataframe tbody tr th:only-of-type {\n",
       "        vertical-align: middle;\n",
       "    }\n",
       "\n",
       "    .dataframe tbody tr th {\n",
       "        vertical-align: top;\n",
       "    }\n",
       "\n",
       "    .dataframe thead th {\n",
       "        text-align: right;\n",
       "    }\n",
       "</style>\n",
       "<table border=\"1\" class=\"dataframe\">\n",
       "  <thead>\n",
       "    <tr style=\"text-align: right;\">\n",
       "      <th></th>\n",
       "      <th>level_0</th>\n",
       "      <th>index</th>\n",
       "      <th>person_id</th>\n",
       "      <th>id</th>\n",
       "      <th>name</th>\n",
       "      <th>character</th>\n",
       "      <th>role</th>\n",
       "    </tr>\n",
       "  </thead>\n",
       "  <tbody>\n",
       "    <tr>\n",
       "      <th>0</th>\n",
       "      <td>0</td>\n",
       "      <td>0</td>\n",
       "      <td>3748</td>\n",
       "      <td>tm84618</td>\n",
       "      <td>Robert De Niro</td>\n",
       "      <td>Travis Bickle</td>\n",
       "      <td>ACTOR</td>\n",
       "    </tr>\n",
       "    <tr>\n",
       "      <th>1</th>\n",
       "      <td>1</td>\n",
       "      <td>1</td>\n",
       "      <td>14658</td>\n",
       "      <td>tm84618</td>\n",
       "      <td>Jodie Foster</td>\n",
       "      <td>Iris Steensma</td>\n",
       "      <td>ACTOR</td>\n",
       "    </tr>\n",
       "    <tr>\n",
       "      <th>2</th>\n",
       "      <td>2</td>\n",
       "      <td>2</td>\n",
       "      <td>7064</td>\n",
       "      <td>tm84618</td>\n",
       "      <td>Albert Brooks</td>\n",
       "      <td>Tom</td>\n",
       "      <td>ACTOR</td>\n",
       "    </tr>\n",
       "    <tr>\n",
       "      <th>3</th>\n",
       "      <td>3</td>\n",
       "      <td>3</td>\n",
       "      <td>3739</td>\n",
       "      <td>tm84618</td>\n",
       "      <td>Harvey Keitel</td>\n",
       "      <td>Matthew 'Sport' Higgins</td>\n",
       "      <td>ACTOR</td>\n",
       "    </tr>\n",
       "    <tr>\n",
       "      <th>4</th>\n",
       "      <td>4</td>\n",
       "      <td>4</td>\n",
       "      <td>48933</td>\n",
       "      <td>tm84618</td>\n",
       "      <td>Cybill Shepherd</td>\n",
       "      <td>Betsy</td>\n",
       "      <td>ACTOR</td>\n",
       "    </tr>\n",
       "  </tbody>\n",
       "</table>\n",
       "</div>"
      ],
      "text/plain": [
       "   level_0  index  person_id       id             name  \\\n",
       "0        0      0       3748  tm84618   Robert De Niro   \n",
       "1        1      1      14658  tm84618     Jodie Foster   \n",
       "2        2      2       7064  tm84618    Albert Brooks   \n",
       "3        3      3       3739  tm84618    Harvey Keitel   \n",
       "4        4      4      48933  tm84618  Cybill Shepherd   \n",
       "\n",
       "                 character   role  \n",
       "0            Travis Bickle  ACTOR  \n",
       "1            Iris Steensma  ACTOR  \n",
       "2                      Tom  ACTOR  \n",
       "3  Matthew 'Sport' Higgins  ACTOR  \n",
       "4                    Betsy  ACTOR  "
      ]
     },
     "execution_count": 143,
     "metadata": {},
     "output_type": "execute_result"
    }
   ],
   "source": [
    "df5 = df5.reset_index()\n",
    "df5.head()"
   ]
  },
  {
   "cell_type": "code",
   "execution_count": 144,
   "metadata": {},
   "outputs": [
    {
     "data": {
      "text/plain": [
       "18021    19\n",
       "18019    15\n",
       "13322    12\n",
       "90       12\n",
       "55966    10\n",
       "         ..\n",
       "72649     1\n",
       "68555     1\n",
       "74702     1\n",
       "76751     1\n",
       "0         1\n",
       "Name: index, Length: 77213, dtype: int64"
      ]
     },
     "execution_count": 144,
     "metadata": {},
     "output_type": "execute_result"
    }
   ],
   "source": [
    "df5['index'].value_counts()"
   ]
  },
  {
   "cell_type": "code",
   "execution_count": 145,
   "metadata": {},
   "outputs": [],
   "source": [
    "# Dropping 'index' column and creating a new one after data normalization\n",
    "# Moving the 'index' column to the front of the dataframe\n",
    "\n",
    "df5.drop('index', axis=1, inplace=True)\n",
    "\n",
    "df5['index'] = df5.index\n",
    "df5.insert(0, 'index', df5.pop('index'))"
   ]
  },
  {
   "cell_type": "code",
   "execution_count": 146,
   "metadata": {},
   "outputs": [
    {
     "data": {
      "text/html": [
       "<div>\n",
       "<style scoped>\n",
       "    .dataframe tbody tr th:only-of-type {\n",
       "        vertical-align: middle;\n",
       "    }\n",
       "\n",
       "    .dataframe tbody tr th {\n",
       "        vertical-align: top;\n",
       "    }\n",
       "\n",
       "    .dataframe thead th {\n",
       "        text-align: right;\n",
       "    }\n",
       "</style>\n",
       "<table border=\"1\" class=\"dataframe\">\n",
       "  <thead>\n",
       "    <tr style=\"text-align: right;\">\n",
       "      <th></th>\n",
       "      <th>index</th>\n",
       "      <th>level_0</th>\n",
       "      <th>person_id</th>\n",
       "      <th>id</th>\n",
       "      <th>name</th>\n",
       "      <th>character</th>\n",
       "      <th>role</th>\n",
       "    </tr>\n",
       "  </thead>\n",
       "  <tbody>\n",
       "    <tr>\n",
       "      <th>0</th>\n",
       "      <td>0</td>\n",
       "      <td>0</td>\n",
       "      <td>3748</td>\n",
       "      <td>tm84618</td>\n",
       "      <td>Robert De Niro</td>\n",
       "      <td>Travis Bickle</td>\n",
       "      <td>ACTOR</td>\n",
       "    </tr>\n",
       "    <tr>\n",
       "      <th>1</th>\n",
       "      <td>1</td>\n",
       "      <td>1</td>\n",
       "      <td>14658</td>\n",
       "      <td>tm84618</td>\n",
       "      <td>Jodie Foster</td>\n",
       "      <td>Iris Steensma</td>\n",
       "      <td>ACTOR</td>\n",
       "    </tr>\n",
       "    <tr>\n",
       "      <th>2</th>\n",
       "      <td>2</td>\n",
       "      <td>2</td>\n",
       "      <td>7064</td>\n",
       "      <td>tm84618</td>\n",
       "      <td>Albert Brooks</td>\n",
       "      <td>Tom</td>\n",
       "      <td>ACTOR</td>\n",
       "    </tr>\n",
       "    <tr>\n",
       "      <th>3</th>\n",
       "      <td>3</td>\n",
       "      <td>3</td>\n",
       "      <td>3739</td>\n",
       "      <td>tm84618</td>\n",
       "      <td>Harvey Keitel</td>\n",
       "      <td>Matthew 'Sport' Higgins</td>\n",
       "      <td>ACTOR</td>\n",
       "    </tr>\n",
       "    <tr>\n",
       "      <th>4</th>\n",
       "      <td>4</td>\n",
       "      <td>4</td>\n",
       "      <td>48933</td>\n",
       "      <td>tm84618</td>\n",
       "      <td>Cybill Shepherd</td>\n",
       "      <td>Betsy</td>\n",
       "      <td>ACTOR</td>\n",
       "    </tr>\n",
       "  </tbody>\n",
       "</table>\n",
       "</div>"
      ],
      "text/plain": [
       "   index  level_0  person_id       id             name  \\\n",
       "0      0        0       3748  tm84618   Robert De Niro   \n",
       "1      1        1      14658  tm84618     Jodie Foster   \n",
       "2      2        2       7064  tm84618    Albert Brooks   \n",
       "3      3        3       3739  tm84618    Harvey Keitel   \n",
       "4      4        4      48933  tm84618  Cybill Shepherd   \n",
       "\n",
       "                 character   role  \n",
       "0            Travis Bickle  ACTOR  \n",
       "1            Iris Steensma  ACTOR  \n",
       "2                      Tom  ACTOR  \n",
       "3  Matthew 'Sport' Higgins  ACTOR  \n",
       "4                    Betsy  ACTOR  "
      ]
     },
     "execution_count": 146,
     "metadata": {},
     "output_type": "execute_result"
    }
   ],
   "source": [
    "df5.head()"
   ]
  },
  {
   "cell_type": "code",
   "execution_count": 147,
   "metadata": {},
   "outputs": [
    {
     "data": {
      "text/plain": [
       "2047     1\n",
       "74417    1\n",
       "31386    1\n",
       "29339    1\n",
       "19100    1\n",
       "        ..\n",
       "1386     1\n",
       "3435     1\n",
       "13676    1\n",
       "15725    1\n",
       "0        1\n",
       "Name: index, Length: 79010, dtype: int64"
      ]
     },
     "execution_count": 147,
     "metadata": {},
     "output_type": "execute_result"
    }
   ],
   "source": [
    "df5['index'].value_counts()"
   ]
  },
  {
   "cell_type": "code",
   "execution_count": 148,
   "metadata": {},
   "outputs": [],
   "source": [
    "df5.drop('level_0', axis=1, inplace=True)"
   ]
  },
  {
   "cell_type": "code",
   "execution_count": 149,
   "metadata": {},
   "outputs": [
    {
     "name": "stdout",
     "output_type": "stream",
     "text": [
      "<class 'pandas.core.frame.DataFrame'>\n",
      "RangeIndex: 79010 entries, 0 to 79009\n",
      "Data columns (total 6 columns):\n",
      " #   Column     Non-Null Count  Dtype \n",
      "---  ------     --------------  ----- \n",
      " 0   index      79010 non-null  int64 \n",
      " 1   person_id  79010 non-null  int64 \n",
      " 2   id         79010 non-null  object\n",
      " 3   name       79010 non-null  object\n",
      " 4   character  69383 non-null  object\n",
      " 5   role       79010 non-null  object\n",
      "dtypes: int64(2), object(4)\n",
      "memory usage: 3.6+ MB\n"
     ]
    }
   ],
   "source": [
    "df5.info()"
   ]
  },
  {
   "cell_type": "code",
   "execution_count": 150,
   "metadata": {},
   "outputs": [
    {
     "name": "stdout",
     "output_type": "stream",
     "text": [
      "Column: index\n",
      "Value length: 5\n",
      "Row possition: 10000 \n",
      "\n",
      "Column: person_id\n",
      "Value length: 7\n",
      "Row possition: 31 \n",
      "\n",
      "Column: id\n",
      "Value length: 9\n",
      "Row possition: 22225 \n",
      "\n",
      "Column: name\n",
      "Value length: 73\n",
      "Row possition: 46763 \n",
      "\n",
      "Column: character\n",
      "Value length: 98\n",
      "Row possition: 63016 \n",
      "\n",
      "Column: role\n",
      "Value length: 8\n",
      "Row possition: 36 \n",
      "\n"
     ]
    }
   ],
   "source": [
    "df5_val_len = longest_value(df5)"
   ]
  },
  {
   "cell_type": "code",
   "execution_count": 151,
   "metadata": {},
   "outputs": [
    {
     "name": "stdout",
     "output_type": "stream",
     "text": [
      "Path to save location: ../data/output\n",
      "File name: raw_credits_2nf\n"
     ]
    }
   ],
   "source": [
    "# Saving the dataframe.\n",
    "\n",
    "df5_csv = save_to_csv(df5)"
   ]
  },
  {
   "cell_type": "markdown",
   "metadata": {},
   "source": [
    "## DF6: raw_titles.csv"
   ]
  },
  {
   "cell_type": "code",
   "execution_count": 11,
   "metadata": {},
   "outputs": [],
   "source": [
    "df6 = open_dataframe('../data/input', 'raw_titles.csv')"
   ]
  },
  {
   "cell_type": "code",
   "execution_count": 12,
   "metadata": {},
   "outputs": [
    {
     "name": "stdout",
     "output_type": "stream",
     "text": [
      "<class 'pandas.core.frame.DataFrame'>\n",
      "RangeIndex: 5806 entries, 0 to 5805\n",
      "Data columns (total 13 columns):\n",
      " #   Column                Non-Null Count  Dtype  \n",
      "---  ------                --------------  -----  \n",
      " 0   index                 5806 non-null   int64  \n",
      " 1   id                    5806 non-null   object \n",
      " 2   title                 5805 non-null   object \n",
      " 3   type                  5806 non-null   object \n",
      " 4   release_year          5806 non-null   int64  \n",
      " 5   age_certification     3196 non-null   object \n",
      " 6   runtime               5806 non-null   int64  \n",
      " 7   genres                5806 non-null   object \n",
      " 8   production_countries  5806 non-null   object \n",
      " 9   seasons               2047 non-null   float64\n",
      " 10  imdb_id               5362 non-null   object \n",
      " 11  imdb_score            5283 non-null   float64\n",
      " 12  imdb_votes            5267 non-null   float64\n",
      "dtypes: float64(3), int64(3), object(7)\n",
      "memory usage: 589.8+ KB\n",
      "None \n",
      "\n",
      "   index        id                                title   type  release_year  \\\n",
      "0      0  ts300399  Five Came Back: The Reference Films   SHOW          1945   \n",
      "1      1   tm84618                          Taxi Driver  MOVIE          1976   \n",
      "2      2  tm127384      Monty Python and the Holy Grail  MOVIE          1975   \n",
      "3      3   tm70993                        Life of Brian  MOVIE          1979   \n",
      "4      4  tm190788                         The Exorcist  MOVIE          1973   \n",
      "\n",
      "  age_certification  runtime                 genres production_countries  \\\n",
      "0             TV-MA       48      ['documentation']               ['US']   \n",
      "1                 R      113     ['crime', 'drama']               ['US']   \n",
      "2                PG       91  ['comedy', 'fantasy']               ['GB']   \n",
      "3                 R       94             ['comedy']               ['GB']   \n",
      "4                 R      133             ['horror']               ['US']   \n",
      "\n",
      "   seasons    imdb_id  imdb_score  imdb_votes  \n",
      "0      1.0        NaN         NaN         NaN  \n",
      "1      NaN  tt0075314         8.3    795222.0  \n",
      "2      NaN  tt0071853         8.2    530877.0  \n",
      "3      NaN  tt0079470         8.0    392419.0  \n",
      "4      NaN  tt0070047         8.1    391942.0  \n"
     ]
    }
   ],
   "source": [
    "df6_info = inspect_dataframe(df6)"
   ]
  },
  {
   "cell_type": "code",
   "execution_count": 13,
   "metadata": {},
   "outputs": [
    {
     "data": {
      "text/plain": [
       "Index(['index', 'id', 'title', 'type', 'release_year', 'age_certification',\n",
       "       'runtime', 'genres', 'production_countries', 'seasons', 'imdb_id',\n",
       "       'imdb_score', 'imdb_votes'],\n",
       "      dtype='object')"
      ]
     },
     "execution_count": 13,
     "metadata": {},
     "output_type": "execute_result"
    }
   ],
   "source": [
    "df6.columns"
   ]
  },
  {
   "cell_type": "code",
   "execution_count": 14,
   "metadata": {},
   "outputs": [
    {
     "data": {
      "text/plain": [
       "False    5806\n",
       "dtype: int64"
      ]
     },
     "execution_count": 14,
     "metadata": {},
     "output_type": "execute_result"
    }
   ],
   "source": [
    "df6.duplicated().value_counts()"
   ]
  },
  {
   "cell_type": "code",
   "execution_count": 15,
   "metadata": {},
   "outputs": [
    {
     "data": {
      "text/plain": [
       "array([\"['US']\", \"['GB']\", \"['US', 'GB']\", \"['JP']\", \"['EG']\", \"['DE']\",\n",
       "       \"['IN']\", '[]', \"['DZ', 'EG']\", \"['LB']\", \"['FR', 'LB', 'CA']\",\n",
       "       \"['IN', 'SU']\", \"['US', 'IT']\", \"['HK', 'US']\", \"['GB', 'US']\",\n",
       "       \"['AR']\", \"['KW']\", \"['EG', 'FR']\", \"['FR', 'LB']\", \"['US', 'JP']\",\n",
       "       \"['US', 'CA']\", \"['DE', 'US']\", \"['US', 'DE']\", \"['CA', 'US']\",\n",
       "       \"['US', 'FR']\", \"['PE', 'US', 'BR']\", \"['IT', 'US', 'FR']\",\n",
       "       \"['US', 'HK']\", \"['FR', 'IE', 'GB', 'DE']\",\n",
       "       \"['GH', 'GB', 'US', 'BF', 'DE']\", \"['AR', 'ES']\", \"['FR']\",\n",
       "       \"['MX']\", \"['AU']\", \"['CO']\", \"['BE', 'FR', 'NO', 'LB']\",\n",
       "       \"['IT', 'LB', 'BE', 'FR']\", \"['US', 'FR', 'DE', 'PS']\", \"['TR']\",\n",
       "       \"['CA']\", \"['GB', 'US', 'BS', 'CZ', 'DE']\", \"['GB', 'US', 'AU']\",\n",
       "       \"['DE', 'ES', 'US', 'FR']\", \"['GB', 'US', 'AU', 'DE']\",\n",
       "       \"['JP', 'US']\", \"['US', 'IS', 'GB']\", \"['DK']\",\n",
       "       \"['NZ', 'JP', 'US']\", \"['US', 'CA', 'FR']\", \"['GB', 'US', 'DE']\",\n",
       "       \"['US', 'DE', 'IT', 'GB']\", \"['CA', 'DE', 'US']\", \"['HK', 'CN']\",\n",
       "       \"['IT', 'US']\", \"['FR', 'JP', 'US']\", \"['US', 'BE']\", \"['KR']\",\n",
       "       \"['IT']\", \"['BG', 'GB', 'US']\", \"['US', 'AU']\", \"['ES', 'GB']\",\n",
       "       \"['GB', 'US', 'JP']\", \"['CN', 'HK']\", \"['RU']\", \"['CN']\", \"['SG']\",\n",
       "       \"['GB', 'US', 'CA']\", \"['HK', 'JP']\", \"['CA', 'GB', 'US']\",\n",
       "       \"['ES', 'FR', 'MX']\", \"['IN', 'CA', 'US']\",\n",
       "       \"['PS', 'FR', 'MA', 'DE']\", \"['HK']\", \"['DE', 'UY', 'ES', 'AR']\",\n",
       "       \"['ES', 'AR']\", \"['US', 'IN']\", \"['TW']\", \"['IN', 'US']\", \"['MY']\",\n",
       "       \"['ES', 'CH', 'PS', 'BE', 'FR']\", \"['CL', 'AR']\",\n",
       "       \"['DE', 'KW', 'PS', 'FR']\", \"['CL']\", \"['NG']\", \"['PS']\",\n",
       "       \"['GB', 'FR', 'LB']\", \"['ZA']\", \"['SA']\",\n",
       "       \"['NG', 'GB', 'US', 'AT', 'FR', 'DE']\", \"['LB', 'FR']\",\n",
       "       \"['GB', 'DK', 'NL', 'SE', 'CZ']\", \"['PH']\", \"['Lebanon']\",\n",
       "       \"['TH', 'IN']\", \"['NG', 'US']\", \"['XX']\", \"['US', 'ES']\",\n",
       "       \"['NO', 'SE', 'US']\", \"['US', 'AE']\", \"['CA', 'HU', 'US']\",\n",
       "       \"['DK', 'US']\", \"['NO']\", \"['GB', 'FR', 'DE']\",\n",
       "       \"['US', 'HU', 'IT']\", \"['US', 'ZA', 'DE']\", \"['DE', 'IN']\",\n",
       "       \"['GB', 'NG']\", \"['AE', 'US', 'LB']\", \"['ID']\",\n",
       "       \"['NL', 'US', 'AE', 'PS']\", \"['FR', 'GB', 'US']\",\n",
       "       \"['US', 'DE', 'GB']\", \"['CA', 'CL', 'US']\", \"['IL']\",\n",
       "       \"['AU', 'US']\", \"['US', 'GB', 'CN', 'CA']\", \"['ES']\",\n",
       "       \"['GB', 'AU', 'CH']\", \"['FR', 'US']\", \"['US', 'GB', 'CA']\",\n",
       "       \"['CA', 'KR']\", \"['CA', 'FR']\", \"['AT']\", \"['US', 'DK']\",\n",
       "       \"['US', 'BR']\", \"['FI']\", \"['GB', 'US', 'EG']\", \"['RO']\",\n",
       "       \"['CD', 'GB']\", \"['BR']\", \"['US', 'CA', 'JP']\", \"['PL']\",\n",
       "       \"['VE', 'AR']\", \"['IL', 'NO', 'ZA', 'AE', 'GB', 'IS', 'IE']\",\n",
       "       \"['UA', 'US', 'CN', 'DE', 'SG']\", \"['AE', 'LB']\",\n",
       "       \"['IT', 'PS', 'FR', 'DE']\", \"['NZ']\", \"['UA']\", \"['BE', 'FR']\",\n",
       "       \"['US', 'CN']\", \"['US', 'FR', 'GB']\", \"['GB', 'IT']\",\n",
       "       \"['MX', 'ZA', 'US']\", \"['ES', 'US', 'GB']\",\n",
       "       \"['GB', 'IR', 'JO', 'QA']\", \"['DE', 'GB', 'US', 'BE', 'DK']\",\n",
       "       \"['UA', 'GB', 'US']\", \"['US', 'FR', 'LU', 'GB']\", \"['US', 'CH']\",\n",
       "       \"['US', 'GH']\", \"['IE', 'ZA']\", \"['CA', 'DE', 'GB']\",\n",
       "       \"['GB', 'IE']\", \"['US', 'CA', 'GB']\", \"['IS']\", \"['FR', 'GB']\",\n",
       "       \"['SE', 'CA', 'FI', 'FR', 'DE']\", \"['BG']\", \"['BY']\",\n",
       "       \"['MA', 'US']\", \"['IE']\", \"['CA', 'CN', 'FR']\",\n",
       "       \"['DE', 'AU', 'FR']\", \"['SK', 'CZ']\", \"['QA', 'FR']\",\n",
       "       \"['QA', 'PS', 'AE', 'FR', 'JO', 'LB']\", \"['MA', 'FR']\", \"['NL']\",\n",
       "       \"['SE']\", \"['HR']\", \"['ES', 'FR']\", \"['SE', 'US']\", \"['FR', 'BE']\",\n",
       "       \"['SY', 'GB']\", \"['NO', 'SE']\", \"['GL', 'FR']\", \"['US', 'AT']\",\n",
       "       \"['AE']\", \"['CD']\", \"['FR', 'PT', 'SE', 'DK', 'BR']\",\n",
       "       \"['ES', 'DK']\", \"['AU', 'GB']\", \"['AU', 'US', 'GB']\",\n",
       "       \"['LB', 'QA']\", \"['FR', 'DE', 'PS']\", \"['PK']\", \"['GB', 'IN']\",\n",
       "       \"['JP', 'US', 'CA']\", \"['CL', 'FR']\", \"['CZ']\", \"['VN']\",\n",
       "       \"['GB', 'NL']\", \"['CA', 'NG']\", \"['FR', 'RU', 'US']\",\n",
       "       \"['CA', 'HU', 'MX', 'ES', 'GB', 'US']\", \"['US', 'FR', 'NL', 'GB']\",\n",
       "       \"['CA', 'US', 'CN']\", \"['GB', 'CA']\", \"['FR', 'CA']\",\n",
       "       \"['KR', 'US']\", \"['MX', 'US']\", \"['BE', 'FR', 'GB']\",\n",
       "       \"['IN', 'CN', 'US', 'GB']\", \"['BE', 'FR', 'US']\",\n",
       "       \"['GB', 'US', 'CZ']\", \"['IT', 'ES', 'FR']\", \"['GB', 'US', 'FR']\",\n",
       "       \"['PR', 'US', 'GB', 'CN']\", \"['SG', 'US', 'GB', 'ID', 'CA', 'CN']\",\n",
       "       \"['GB', 'US', 'SG']\", \"['GB', 'DE']\", \"['HK', 'IS', 'US']\",\n",
       "       \"['IT', 'CH', 'FR']\", \"['US', 'FR', 'IR']\", \"['NO', 'US', 'IS']\",\n",
       "       \"['IQ', 'GB']\", \"['BE']\", \"['HU']\", \"['DE', 'CA', 'US']\",\n",
       "       \"['IE', 'CA']\", \"['PR']\", \"['BG', 'US']\", \"['KH', 'US']\",\n",
       "       \"['US', 'GB', 'ES']\", \"['CN', 'US', 'ES']\", \"['FR', 'GE', 'DE']\",\n",
       "       \"['GB', 'US', 'DK']\", \"['TH']\", \"['NL', 'BE']\",\n",
       "       \"['CN', 'US', 'CA']\", \"['IL', 'MA', 'US', 'BG', 'GB']\",\n",
       "       \"['FR', 'LU', 'US']\", \"['JP', 'FR']\", \"['BE', 'FR', 'IT']\",\n",
       "       \"['TR', 'US']\", \"['ES', 'IT']\", \"['BR', 'CA']\", \"['CA', 'CN']\",\n",
       "       \"['ES', 'US']\", \"['CU', 'US']\", \"['ZA', 'GB']\", \"['CA', 'GB']\",\n",
       "       \"['US', 'PL']\", \"['ES', 'DE']\", \"['CA', 'US', 'IE']\",\n",
       "       \"['IS', 'SE', 'BE']\", \"['CH', 'DE']\", \"['CN', 'JP']\",\n",
       "       \"['US', 'MX']\", \"['DK', 'NL', 'NO', 'SE']\", \"['NZ', 'GB', 'DE']\",\n",
       "       \"['AR', 'ES', 'UY']\", \"['LU', 'CA', 'FR']\", \"['KE']\",\n",
       "       \"['KR', 'FR', 'JP']\", \"['MX', 'ES']\", \"['US', 'DE', 'ZA']\",\n",
       "       \"['GB', 'IS']\", \"['FR', 'IN']\", \"['IT', 'CH', 'VA', 'FR', 'DE']\",\n",
       "       \"['DE', 'NO', 'PE']\", \"['US', 'NG']\", \"['SG', 'PH']\",\n",
       "       \"['DE', 'IT']\", \"['NL', 'US']\", \"['RU', 'RS', 'PL']\",\n",
       "       \"['FR', 'IT']\", \"['AE', 'SA', 'SY']\", \"['GB', 'DE', 'DK', 'NL']\",\n",
       "       \"['GB', 'US', 'IL', 'IT', 'PE']\", \"['FR', 'ES']\",\n",
       "       \"['PL', 'CH', 'AL', 'IT']\", \"['PE']\", \"['SG', 'ID', 'MY']\",\n",
       "       \"['KH']\", \"['IN', 'MX']\", \"['FR', 'AR']\", \"['CZ', 'US']\",\n",
       "       \"['BE', 'GB', 'US']\", \"['TZ']\", \"['QA', 'TN', 'BE', 'FR']\",\n",
       "       \"['MX', 'FI']\", \"['AR', 'BR', 'DK', 'FR', 'DE', 'PL']\",\n",
       "       \"['TW', 'US', 'CN', 'FR']\", \"['GE']\", \"['CL', 'NL', 'FR']\",\n",
       "       \"['BE', 'ES']\", \"['NL', 'MX']\", \"['CA', 'ZA', 'US']\", \"['ZW']\",\n",
       "       \"['AT', 'IQ', 'US']\", \"['PY']\", \"['IT', 'AR']\", \"['AR', 'US']\",\n",
       "       \"['FR', 'IN', 'SG']\", \"['FR', 'PS', 'CH', 'QA']\",\n",
       "       \"['NL', 'JO', 'DE']\", \"['TW', 'US']\", \"['MX', 'AR']\", \"['GH']\",\n",
       "       \"['AR', 'IT']\", \"['MX', 'CO']\", \"['LB', 'PS']\", \"['IN', 'NP']\",\n",
       "       \"['CA', 'JP', 'US']\", \"['DK', 'GR', 'GB']\", \"['CM']\",\n",
       "       \"['CL', 'MX', 'US']\", \"['IN', 'BD']\", \"['NO', 'NG']\", \"['CH']\",\n",
       "       \"['KG']\", \"['ZA', 'CA']\", \"['US', 'CN', 'AU']\", \"['BD']\",\n",
       "       \"['JP', 'GB']\", \"['LT', 'NL', 'BE']\", \"['CA', 'CN', 'US']\",\n",
       "       \"['US', 'BG']\", \"['US', 'FR', 'IE']\", \"['HU', 'US', 'CA']\",\n",
       "       \"['US', 'CY']\", \"['FR', 'LT', 'GB']\", \"['CN', 'US']\",\n",
       "       \"['GB', 'FR']\", \"['SN', 'BE', 'FR']\", \"['BE', 'SE', 'GB']\",\n",
       "       \"['MW', 'GB', 'US']\", \"['US', 'IL']\", \"['PT', 'US']\",\n",
       "       \"['IE', 'GB']\", \"['FR', 'ES', 'US', 'CA']\",\n",
       "       \"['US', 'FR', 'SE', 'GB', 'DE', 'DK', 'CA']\", \"['TH', 'US']\",\n",
       "       \"['LU']\", \"['CZ', 'FR', 'GB']\", \"['NO', 'FI']\",\n",
       "       \"['US', 'CN', 'TH']\", \"['GB', 'US', 'CN']\", \"['CH', 'US']\",\n",
       "       \"['BR', 'FR', 'ES', 'BE']\", \"['DE', 'AT']\", \"['IN', 'GB']\",\n",
       "       \"['BR', 'MX']\", \"['AR', 'ES', 'FR']\", \"['US', 'AL', 'JO', 'TH']\",\n",
       "       \"['IL', 'US', 'FR', 'DE']\", \"['IT', 'GB']\", \"['IO']\",\n",
       "       \"['CN', 'DE', 'GB']\", \"['UA', 'GB', 'US', 'NL', 'PL']\", \"['MU']\",\n",
       "       \"['DE', 'ES']\", \"['BE', 'KH', 'FR', 'LU']\", \"['JO']\",\n",
       "       \"['PS', 'QA']\", \"['ES', 'BE', 'DE']\", \"['RS', 'UY', 'AR']\",\n",
       "       \"['FR', 'US', 'JP']\", \"['SG', 'FR', 'NL']\", \"['JP', 'US', 'CN']\",\n",
       "       \"['ES', 'MX']\", \"['PE', 'AR']\", \"['ES', 'PT']\", \"['AT', 'DE']\",\n",
       "       \"['US', 'AR']\", \"['MY', 'TW']\", \"['DE', 'NO']\", \"['PH', 'US']\",\n",
       "       \"['ES', 'CO']\", \"['FR', 'ES', 'US']\", \"['AR', 'CA', 'CL']\",\n",
       "       \"['EG', 'US']\", \"['ES', 'US', 'BE']\", \"['CN', 'ES']\",\n",
       "       \"['FR', 'JP', 'GB', 'US', 'CA']\", \"['MX', 'CO', 'FR']\",\n",
       "       \"['US', 'SE']\", \"['FR', 'BR']\", \"['CA', 'LK']\",\n",
       "       \"['FR', 'QA', 'MA']\", \"['IE', 'US']\", \"['UY']\", \"['AO', 'ZA']\",\n",
       "       \"['DE', 'IN', 'AT']\", \"['GT', 'UY']\", \"['AR', 'CO']\",\n",
       "       \"['QA', 'SY', 'FR', 'LB']\", \"['SN']\", \"['MZ']\",\n",
       "       \"['DK', 'EG', 'DE']\", \"['SG', 'MY']\", \"['US', 'NL', 'CA', 'LB']\",\n",
       "       \"['JP', 'US', 'FR']\", \"['AF', 'DE', 'PS']\", \"['FR', 'IN', 'QA']\",\n",
       "       \"['PS', 'DK', 'LB']\", \"['US', 'GB', 'DE']\", \"['UY', 'MX', 'ES']\",\n",
       "       \"['HK', 'PH']\", \"['CA', 'NO']\", \"['CN', 'TW']\", \"['EG', 'SA']\",\n",
       "       \"['LB', 'GB', 'DK']\", \"['NL', 'PS', 'US', 'LB']\", \"['NA']\",\n",
       "       \"['PH', 'JP']\", \"['CA', 'GR', 'NZ', 'GB', 'AU']\",\n",
       "       \"['GB', 'US', 'GR']\", \"['US', 'AT', 'GB']\", \"['DK', 'IS']\",\n",
       "       \"['DE', 'GB', 'US']\", \"['FR', 'DE', 'US']\", \"['JP', 'TH', 'US']\",\n",
       "       \"['GB', 'SE']\", \"['RO', 'US']\", \"['PL', 'KR', 'US']\",\n",
       "       \"['QA', 'MX', 'US', 'CH', 'AR', 'BR', 'DE']\", \"['CA', 'IE', 'US']\",\n",
       "       \"['FR', 'LU']\", \"['PT']\", \"['US', 'NL']\", \"['IN', 'SG', 'US']\",\n",
       "       \"['BR', 'IT']\", \"['HU', 'NL', 'CH', 'GB']\", \"['CL', 'PE']\",\n",
       "       \"['PE', 'ES']\", \"['BR', 'US']\", \"['BE', 'GB', 'DE']\",\n",
       "       \"['US', 'CA', 'CN']\", \"['ZA', 'US']\", \"['US', 'ZA', 'GB']\",\n",
       "       \"['AF']\", \"['NZ', 'HK']\", \"['SG', 'US']\", \"['CZ', 'DE']\",\n",
       "       \"['BE', 'LU']\", \"['CA', 'ZA']\", \"['RO', 'SE']\", \"['RU', 'US']\",\n",
       "       \"['CN', 'GB']\", \"['DE', 'FR']\", \"['HU', 'CA']\", \"['IL', 'US']\",\n",
       "       \"['BE', 'DE']\", \"['PH', 'FO']\", \"['TZ', 'GB']\", \"['NG', 'CA']\"],\n",
       "      dtype=object)"
      ]
     },
     "execution_count": 15,
     "metadata": {},
     "output_type": "execute_result"
    }
   ],
   "source": [
    "df6['production_countries'].unique()"
   ]
  },
  {
   "cell_type": "code",
   "execution_count": 35,
   "metadata": {},
   "outputs": [
    {
     "name": "stdout",
     "output_type": "stream",
     "text": [
      "['genres', 'production_countries']\n"
     ]
    }
   ],
   "source": [
    "# A list of columns where values are list-like values.\n",
    "\n",
    "df6_cols = list_like_columns(df6)\n",
    "print(df6_cols)"
   ]
  },
  {
   "cell_type": "code",
   "execution_count": 36,
   "metadata": {},
   "outputs": [],
   "source": [
    "# Changing the list-like values to proper list values.\n",
    "\n",
    "df6_list = to_proper_list(df6, df6_cols)"
   ]
  },
  {
   "cell_type": "code",
   "execution_count": 37,
   "metadata": {},
   "outputs": [
    {
     "data": {
      "text/html": [
       "<div>\n",
       "<style scoped>\n",
       "    .dataframe tbody tr th:only-of-type {\n",
       "        vertical-align: middle;\n",
       "    }\n",
       "\n",
       "    .dataframe tbody tr th {\n",
       "        vertical-align: top;\n",
       "    }\n",
       "\n",
       "    .dataframe thead th {\n",
       "        text-align: right;\n",
       "    }\n",
       "</style>\n",
       "<table border=\"1\" class=\"dataframe\">\n",
       "  <thead>\n",
       "    <tr style=\"text-align: right;\">\n",
       "      <th></th>\n",
       "      <th>index</th>\n",
       "      <th>id</th>\n",
       "      <th>title</th>\n",
       "      <th>type</th>\n",
       "      <th>release_year</th>\n",
       "      <th>age_certification</th>\n",
       "      <th>runtime</th>\n",
       "      <th>genres</th>\n",
       "      <th>production_countries</th>\n",
       "      <th>seasons</th>\n",
       "      <th>imdb_id</th>\n",
       "      <th>imdb_score</th>\n",
       "      <th>imdb_votes</th>\n",
       "    </tr>\n",
       "  </thead>\n",
       "  <tbody>\n",
       "    <tr>\n",
       "      <th>0</th>\n",
       "      <td>0</td>\n",
       "      <td>ts300399</td>\n",
       "      <td>Five Came Back: The Reference Films</td>\n",
       "      <td>SHOW</td>\n",
       "      <td>1945</td>\n",
       "      <td>TV-MA</td>\n",
       "      <td>48</td>\n",
       "      <td>[documentation]</td>\n",
       "      <td>[US]</td>\n",
       "      <td>1.0</td>\n",
       "      <td>NaN</td>\n",
       "      <td>NaN</td>\n",
       "      <td>NaN</td>\n",
       "    </tr>\n",
       "    <tr>\n",
       "      <th>1</th>\n",
       "      <td>1</td>\n",
       "      <td>tm84618</td>\n",
       "      <td>Taxi Driver</td>\n",
       "      <td>MOVIE</td>\n",
       "      <td>1976</td>\n",
       "      <td>R</td>\n",
       "      <td>113</td>\n",
       "      <td>[crime, drama]</td>\n",
       "      <td>[US]</td>\n",
       "      <td>NaN</td>\n",
       "      <td>tt0075314</td>\n",
       "      <td>8.3</td>\n",
       "      <td>795222.0</td>\n",
       "    </tr>\n",
       "    <tr>\n",
       "      <th>2</th>\n",
       "      <td>2</td>\n",
       "      <td>tm127384</td>\n",
       "      <td>Monty Python and the Holy Grail</td>\n",
       "      <td>MOVIE</td>\n",
       "      <td>1975</td>\n",
       "      <td>PG</td>\n",
       "      <td>91</td>\n",
       "      <td>[comedy, fantasy]</td>\n",
       "      <td>[GB]</td>\n",
       "      <td>NaN</td>\n",
       "      <td>tt0071853</td>\n",
       "      <td>8.2</td>\n",
       "      <td>530877.0</td>\n",
       "    </tr>\n",
       "    <tr>\n",
       "      <th>3</th>\n",
       "      <td>3</td>\n",
       "      <td>tm70993</td>\n",
       "      <td>Life of Brian</td>\n",
       "      <td>MOVIE</td>\n",
       "      <td>1979</td>\n",
       "      <td>R</td>\n",
       "      <td>94</td>\n",
       "      <td>[comedy]</td>\n",
       "      <td>[GB]</td>\n",
       "      <td>NaN</td>\n",
       "      <td>tt0079470</td>\n",
       "      <td>8.0</td>\n",
       "      <td>392419.0</td>\n",
       "    </tr>\n",
       "    <tr>\n",
       "      <th>4</th>\n",
       "      <td>4</td>\n",
       "      <td>tm190788</td>\n",
       "      <td>The Exorcist</td>\n",
       "      <td>MOVIE</td>\n",
       "      <td>1973</td>\n",
       "      <td>R</td>\n",
       "      <td>133</td>\n",
       "      <td>[horror]</td>\n",
       "      <td>[US]</td>\n",
       "      <td>NaN</td>\n",
       "      <td>tt0070047</td>\n",
       "      <td>8.1</td>\n",
       "      <td>391942.0</td>\n",
       "    </tr>\n",
       "  </tbody>\n",
       "</table>\n",
       "</div>"
      ],
      "text/plain": [
       "   index        id                                title   type  release_year  \\\n",
       "0      0  ts300399  Five Came Back: The Reference Films   SHOW          1945   \n",
       "1      1   tm84618                          Taxi Driver  MOVIE          1976   \n",
       "2      2  tm127384      Monty Python and the Holy Grail  MOVIE          1975   \n",
       "3      3   tm70993                        Life of Brian  MOVIE          1979   \n",
       "4      4  tm190788                         The Exorcist  MOVIE          1973   \n",
       "\n",
       "  age_certification  runtime             genres production_countries  seasons  \\\n",
       "0             TV-MA       48    [documentation]                 [US]      1.0   \n",
       "1                 R      113     [crime, drama]                 [US]      NaN   \n",
       "2                PG       91  [comedy, fantasy]                 [GB]      NaN   \n",
       "3                 R       94           [comedy]                 [GB]      NaN   \n",
       "4                 R      133           [horror]                 [US]      NaN   \n",
       "\n",
       "     imdb_id  imdb_score  imdb_votes  \n",
       "0        NaN         NaN         NaN  \n",
       "1  tt0075314         8.3    795222.0  \n",
       "2  tt0071853         8.2    530877.0  \n",
       "3  tt0079470         8.0    392419.0  \n",
       "4  tt0070047         8.1    391942.0  "
      ]
     },
     "execution_count": 37,
     "metadata": {},
     "output_type": "execute_result"
    }
   ],
   "source": [
    "df6_list.head()"
   ]
  },
  {
   "cell_type": "code",
   "execution_count": 63,
   "metadata": {},
   "outputs": [
    {
     "name": "stdout",
     "output_type": "stream",
     "text": [
      "Enter a name for a normalized dataset: raw_titles\n"
     ]
    }
   ],
   "source": [
    "# Normalizing the dataframe to the 2NF.\n",
    "\n",
    "df6_2nf = copy_and_explode(df6_list, 'genres', 'production_countries')"
   ]
  },
  {
   "cell_type": "code",
   "execution_count": 16,
   "metadata": {},
   "outputs": [],
   "source": [
    "df6_2 = open_dataframe('../data/output', 'raw_titles_2nf.csv')"
   ]
  },
  {
   "cell_type": "code",
   "execution_count": 17,
   "metadata": {},
   "outputs": [
    {
     "data": {
      "text/html": [
       "<div>\n",
       "<style scoped>\n",
       "    .dataframe tbody tr th:only-of-type {\n",
       "        vertical-align: middle;\n",
       "    }\n",
       "\n",
       "    .dataframe tbody tr th {\n",
       "        vertical-align: top;\n",
       "    }\n",
       "\n",
       "    .dataframe thead th {\n",
       "        text-align: right;\n",
       "    }\n",
       "</style>\n",
       "<table border=\"1\" class=\"dataframe\">\n",
       "  <thead>\n",
       "    <tr style=\"text-align: right;\">\n",
       "      <th></th>\n",
       "      <th>index</th>\n",
       "      <th>id</th>\n",
       "      <th>title</th>\n",
       "      <th>type</th>\n",
       "      <th>release_year</th>\n",
       "      <th>age_certification</th>\n",
       "      <th>runtime</th>\n",
       "      <th>genres</th>\n",
       "      <th>production_countries</th>\n",
       "      <th>seasons</th>\n",
       "      <th>imdb_id</th>\n",
       "      <th>imdb_score</th>\n",
       "      <th>imdb_votes</th>\n",
       "    </tr>\n",
       "  </thead>\n",
       "  <tbody>\n",
       "    <tr>\n",
       "      <th>0</th>\n",
       "      <td>0</td>\n",
       "      <td>ts300399</td>\n",
       "      <td>Five Came Back: The Reference Films</td>\n",
       "      <td>SHOW</td>\n",
       "      <td>1945</td>\n",
       "      <td>TV-MA</td>\n",
       "      <td>48</td>\n",
       "      <td>documentation</td>\n",
       "      <td>US</td>\n",
       "      <td>1.0</td>\n",
       "      <td>NaN</td>\n",
       "      <td>NaN</td>\n",
       "      <td>NaN</td>\n",
       "    </tr>\n",
       "    <tr>\n",
       "      <th>1</th>\n",
       "      <td>1</td>\n",
       "      <td>tm84618</td>\n",
       "      <td>Taxi Driver</td>\n",
       "      <td>MOVIE</td>\n",
       "      <td>1976</td>\n",
       "      <td>R</td>\n",
       "      <td>113</td>\n",
       "      <td>crime</td>\n",
       "      <td>US</td>\n",
       "      <td>NaN</td>\n",
       "      <td>tt0075314</td>\n",
       "      <td>8.3</td>\n",
       "      <td>795222.0</td>\n",
       "    </tr>\n",
       "    <tr>\n",
       "      <th>2</th>\n",
       "      <td>1</td>\n",
       "      <td>tm84618</td>\n",
       "      <td>Taxi Driver</td>\n",
       "      <td>MOVIE</td>\n",
       "      <td>1976</td>\n",
       "      <td>R</td>\n",
       "      <td>113</td>\n",
       "      <td>drama</td>\n",
       "      <td>US</td>\n",
       "      <td>NaN</td>\n",
       "      <td>tt0075314</td>\n",
       "      <td>8.3</td>\n",
       "      <td>795222.0</td>\n",
       "    </tr>\n",
       "    <tr>\n",
       "      <th>3</th>\n",
       "      <td>2</td>\n",
       "      <td>tm127384</td>\n",
       "      <td>Monty Python and the Holy Grail</td>\n",
       "      <td>MOVIE</td>\n",
       "      <td>1975</td>\n",
       "      <td>PG</td>\n",
       "      <td>91</td>\n",
       "      <td>comedy</td>\n",
       "      <td>GB</td>\n",
       "      <td>NaN</td>\n",
       "      <td>tt0071853</td>\n",
       "      <td>8.2</td>\n",
       "      <td>530877.0</td>\n",
       "    </tr>\n",
       "    <tr>\n",
       "      <th>4</th>\n",
       "      <td>2</td>\n",
       "      <td>tm127384</td>\n",
       "      <td>Monty Python and the Holy Grail</td>\n",
       "      <td>MOVIE</td>\n",
       "      <td>1975</td>\n",
       "      <td>PG</td>\n",
       "      <td>91</td>\n",
       "      <td>fantasy</td>\n",
       "      <td>GB</td>\n",
       "      <td>NaN</td>\n",
       "      <td>tt0071853</td>\n",
       "      <td>8.2</td>\n",
       "      <td>530877.0</td>\n",
       "    </tr>\n",
       "  </tbody>\n",
       "</table>\n",
       "</div>"
      ],
      "text/plain": [
       "   index        id                                title   type  release_year  \\\n",
       "0      0  ts300399  Five Came Back: The Reference Films   SHOW          1945   \n",
       "1      1   tm84618                          Taxi Driver  MOVIE          1976   \n",
       "2      1   tm84618                          Taxi Driver  MOVIE          1976   \n",
       "3      2  tm127384      Monty Python and the Holy Grail  MOVIE          1975   \n",
       "4      2  tm127384      Monty Python and the Holy Grail  MOVIE          1975   \n",
       "\n",
       "  age_certification  runtime         genres production_countries  seasons  \\\n",
       "0             TV-MA       48  documentation                   US      1.0   \n",
       "1                 R      113          crime                   US      NaN   \n",
       "2                 R      113          drama                   US      NaN   \n",
       "3                PG       91         comedy                   GB      NaN   \n",
       "4                PG       91        fantasy                   GB      NaN   \n",
       "\n",
       "     imdb_id  imdb_score  imdb_votes  \n",
       "0        NaN         NaN         NaN  \n",
       "1  tt0075314         8.3    795222.0  \n",
       "2  tt0075314         8.3    795222.0  \n",
       "3  tt0071853         8.2    530877.0  \n",
       "4  tt0071853         8.2    530877.0  "
      ]
     },
     "execution_count": 17,
     "metadata": {},
     "output_type": "execute_result"
    }
   ],
   "source": [
    "df6_2.head()"
   ]
  },
  {
   "cell_type": "code",
   "execution_count": 18,
   "metadata": {},
   "outputs": [
    {
     "data": {
      "text/plain": [
       "drama            3437\n",
       "comedy           2470\n",
       "thriller         1461\n",
       "action           1269\n",
       "romance          1089\n",
       "documentation    1047\n",
       "crime            1032\n",
       "animation         779\n",
       "fantasy           747\n",
       "family            741\n",
       "european          723\n",
       "scifi             680\n",
       "horror            452\n",
       "history           314\n",
       "music             259\n",
       "reality           231\n",
       "war               221\n",
       "sport             184\n",
       "western            59\n",
       "Name: genres, dtype: int64"
      ]
     },
     "execution_count": 18,
     "metadata": {},
     "output_type": "execute_result"
    }
   ],
   "source": [
    "df6_2['genres'].value_counts()"
   ]
  },
  {
   "cell_type": "code",
   "execution_count": 19,
   "metadata": {},
   "outputs": [
    {
     "data": {
      "text/html": [
       "<div>\n",
       "<style scoped>\n",
       "    .dataframe tbody tr th:only-of-type {\n",
       "        vertical-align: middle;\n",
       "    }\n",
       "\n",
       "    .dataframe tbody tr th {\n",
       "        vertical-align: top;\n",
       "    }\n",
       "\n",
       "    .dataframe thead th {\n",
       "        text-align: right;\n",
       "    }\n",
       "</style>\n",
       "<table border=\"1\" class=\"dataframe\">\n",
       "  <thead>\n",
       "    <tr style=\"text-align: right;\">\n",
       "      <th></th>\n",
       "      <th>index</th>\n",
       "      <th>id</th>\n",
       "      <th>title</th>\n",
       "      <th>type</th>\n",
       "      <th>release_year</th>\n",
       "      <th>age_certification</th>\n",
       "      <th>runtime</th>\n",
       "      <th>genres</th>\n",
       "      <th>production_countries</th>\n",
       "      <th>seasons</th>\n",
       "      <th>imdb_id</th>\n",
       "      <th>imdb_score</th>\n",
       "      <th>imdb_votes</th>\n",
       "    </tr>\n",
       "  </thead>\n",
       "  <tbody>\n",
       "    <tr>\n",
       "      <th>0</th>\n",
       "      <td>0</td>\n",
       "      <td>ts300399</td>\n",
       "      <td>Five Came Back: The Reference Films</td>\n",
       "      <td>SHOW</td>\n",
       "      <td>1945</td>\n",
       "      <td>TV-MA</td>\n",
       "      <td>48</td>\n",
       "      <td>documentation</td>\n",
       "      <td>US</td>\n",
       "      <td>1.0</td>\n",
       "      <td>NaN</td>\n",
       "      <td>NaN</td>\n",
       "      <td>NaN</td>\n",
       "    </tr>\n",
       "    <tr>\n",
       "      <th>36</th>\n",
       "      <td>13</td>\n",
       "      <td>tm69997</td>\n",
       "      <td>Richard Pryor: Live in Concert</td>\n",
       "      <td>MOVIE</td>\n",
       "      <td>1979</td>\n",
       "      <td>R</td>\n",
       "      <td>78</td>\n",
       "      <td>documentation</td>\n",
       "      <td>US</td>\n",
       "      <td>NaN</td>\n",
       "      <td>tt0079807</td>\n",
       "      <td>8.1</td>\n",
       "      <td>5141.0</td>\n",
       "    </tr>\n",
       "    <tr>\n",
       "      <th>45</th>\n",
       "      <td>17</td>\n",
       "      <td>tm14491</td>\n",
       "      <td>The Queen</td>\n",
       "      <td>MOVIE</td>\n",
       "      <td>1968</td>\n",
       "      <td>NaN</td>\n",
       "      <td>68</td>\n",
       "      <td>documentation</td>\n",
       "      <td>US</td>\n",
       "      <td>NaN</td>\n",
       "      <td>tt0183686</td>\n",
       "      <td>7.2</td>\n",
       "      <td>1117.0</td>\n",
       "    </tr>\n",
       "    <tr>\n",
       "      <th>46</th>\n",
       "      <td>18</td>\n",
       "      <td>tm89386</td>\n",
       "      <td>Hitler: A Career</td>\n",
       "      <td>MOVIE</td>\n",
       "      <td>1977</td>\n",
       "      <td>PG</td>\n",
       "      <td>150</td>\n",
       "      <td>documentation</td>\n",
       "      <td>DE</td>\n",
       "      <td>NaN</td>\n",
       "      <td>tt0191182</td>\n",
       "      <td>7.5</td>\n",
       "      <td>2416.0</td>\n",
       "    </tr>\n",
       "    <tr>\n",
       "      <th>50</th>\n",
       "      <td>19</td>\n",
       "      <td>tm156453</td>\n",
       "      <td>FTA</td>\n",
       "      <td>MOVIE</td>\n",
       "      <td>1972</td>\n",
       "      <td>R</td>\n",
       "      <td>97</td>\n",
       "      <td>documentation</td>\n",
       "      <td>US</td>\n",
       "      <td>NaN</td>\n",
       "      <td>tt0068562</td>\n",
       "      <td>6.2</td>\n",
       "      <td>411.0</td>\n",
       "    </tr>\n",
       "    <tr>\n",
       "      <th>...</th>\n",
       "      <td>...</td>\n",
       "      <td>...</td>\n",
       "      <td>...</td>\n",
       "      <td>...</td>\n",
       "      <td>...</td>\n",
       "      <td>...</td>\n",
       "      <td>...</td>\n",
       "      <td>...</td>\n",
       "      <td>...</td>\n",
       "      <td>...</td>\n",
       "      <td>...</td>\n",
       "      <td>...</td>\n",
       "      <td>...</td>\n",
       "    </tr>\n",
       "    <tr>\n",
       "      <th>17202</th>\n",
       "      <td>5770</td>\n",
       "      <td>ts307816</td>\n",
       "      <td>Korean Cold Noodle Rhapsody</td>\n",
       "      <td>SHOW</td>\n",
       "      <td>2021</td>\n",
       "      <td>TV-PG</td>\n",
       "      <td>49</td>\n",
       "      <td>documentation</td>\n",
       "      <td>KR</td>\n",
       "      <td>1.0</td>\n",
       "      <td>tt15772846</td>\n",
       "      <td>7.3</td>\n",
       "      <td>15.0</td>\n",
       "    </tr>\n",
       "    <tr>\n",
       "      <th>17209</th>\n",
       "      <td>5775</td>\n",
       "      <td>tm1146635</td>\n",
       "      <td>Daiki Tsuneta: Tokyo Chaotic</td>\n",
       "      <td>MOVIE</td>\n",
       "      <td>2021</td>\n",
       "      <td>NaN</td>\n",
       "      <td>89</td>\n",
       "      <td>documentation</td>\n",
       "      <td>JP</td>\n",
       "      <td>NaN</td>\n",
       "      <td>tt16781874</td>\n",
       "      <td>7.1</td>\n",
       "      <td>15.0</td>\n",
       "    </tr>\n",
       "    <tr>\n",
       "      <th>17213</th>\n",
       "      <td>5777</td>\n",
       "      <td>tm1094060</td>\n",
       "      <td>My Heroes Were Cowboys</td>\n",
       "      <td>MOVIE</td>\n",
       "      <td>2021</td>\n",
       "      <td>PG</td>\n",
       "      <td>23</td>\n",
       "      <td>documentation</td>\n",
       "      <td>US</td>\n",
       "      <td>NaN</td>\n",
       "      <td>tt15084326</td>\n",
       "      <td>NaN</td>\n",
       "      <td>NaN</td>\n",
       "    </tr>\n",
       "    <tr>\n",
       "      <th>17214</th>\n",
       "      <td>5778</td>\n",
       "      <td>tm1046969</td>\n",
       "      <td>Myriam Fares: The Journey</td>\n",
       "      <td>MOVIE</td>\n",
       "      <td>2021</td>\n",
       "      <td>NaN</td>\n",
       "      <td>72</td>\n",
       "      <td>documentation</td>\n",
       "      <td>LB</td>\n",
       "      <td>NaN</td>\n",
       "      <td>tt14773250</td>\n",
       "      <td>2.3</td>\n",
       "      <td>153.0</td>\n",
       "    </tr>\n",
       "    <tr>\n",
       "      <th>17257</th>\n",
       "      <td>5802</td>\n",
       "      <td>tm1108171</td>\n",
       "      <td>Edis Starlight</td>\n",
       "      <td>MOVIE</td>\n",
       "      <td>2021</td>\n",
       "      <td>NaN</td>\n",
       "      <td>74</td>\n",
       "      <td>documentation</td>\n",
       "      <td>NaN</td>\n",
       "      <td>NaN</td>\n",
       "      <td>NaN</td>\n",
       "      <td>NaN</td>\n",
       "      <td>NaN</td>\n",
       "    </tr>\n",
       "  </tbody>\n",
       "</table>\n",
       "<p>1047 rows × 13 columns</p>\n",
       "</div>"
      ],
      "text/plain": [
       "       index         id                                title   type  \\\n",
       "0          0   ts300399  Five Came Back: The Reference Films   SHOW   \n",
       "36        13    tm69997       Richard Pryor: Live in Concert  MOVIE   \n",
       "45        17    tm14491                            The Queen  MOVIE   \n",
       "46        18    tm89386                     Hitler: A Career  MOVIE   \n",
       "50        19   tm156453                                  FTA  MOVIE   \n",
       "...      ...        ...                                  ...    ...   \n",
       "17202   5770   ts307816          Korean Cold Noodle Rhapsody   SHOW   \n",
       "17209   5775  tm1146635         Daiki Tsuneta: Tokyo Chaotic  MOVIE   \n",
       "17213   5777  tm1094060               My Heroes Were Cowboys  MOVIE   \n",
       "17214   5778  tm1046969            Myriam Fares: The Journey  MOVIE   \n",
       "17257   5802  tm1108171                       Edis Starlight  MOVIE   \n",
       "\n",
       "       release_year age_certification  runtime         genres  \\\n",
       "0              1945             TV-MA       48  documentation   \n",
       "36             1979                 R       78  documentation   \n",
       "45             1968               NaN       68  documentation   \n",
       "46             1977                PG      150  documentation   \n",
       "50             1972                 R       97  documentation   \n",
       "...             ...               ...      ...            ...   \n",
       "17202          2021             TV-PG       49  documentation   \n",
       "17209          2021               NaN       89  documentation   \n",
       "17213          2021                PG       23  documentation   \n",
       "17214          2021               NaN       72  documentation   \n",
       "17257          2021               NaN       74  documentation   \n",
       "\n",
       "      production_countries  seasons     imdb_id  imdb_score  imdb_votes  \n",
       "0                       US      1.0         NaN         NaN         NaN  \n",
       "36                      US      NaN   tt0079807         8.1      5141.0  \n",
       "45                      US      NaN   tt0183686         7.2      1117.0  \n",
       "46                      DE      NaN   tt0191182         7.5      2416.0  \n",
       "50                      US      NaN   tt0068562         6.2       411.0  \n",
       "...                    ...      ...         ...         ...         ...  \n",
       "17202                   KR      1.0  tt15772846         7.3        15.0  \n",
       "17209                   JP      NaN  tt16781874         7.1        15.0  \n",
       "17213                   US      NaN  tt15084326         NaN         NaN  \n",
       "17214                   LB      NaN  tt14773250         2.3       153.0  \n",
       "17257                  NaN      NaN         NaN         NaN         NaN  \n",
       "\n",
       "[1047 rows x 13 columns]"
      ]
     },
     "execution_count": 19,
     "metadata": {},
     "output_type": "execute_result"
    }
   ],
   "source": [
    "df6_2[df6_2.loc[:, 'genres'] == 'documentation']"
   ]
  },
  {
   "cell_type": "code",
   "execution_count": 20,
   "metadata": {},
   "outputs": [
    {
     "data": {
      "text/html": [
       "<div>\n",
       "<style scoped>\n",
       "    .dataframe tbody tr th:only-of-type {\n",
       "        vertical-align: middle;\n",
       "    }\n",
       "\n",
       "    .dataframe tbody tr th {\n",
       "        vertical-align: top;\n",
       "    }\n",
       "\n",
       "    .dataframe thead th {\n",
       "        text-align: right;\n",
       "    }\n",
       "</style>\n",
       "<table border=\"1\" class=\"dataframe\">\n",
       "  <thead>\n",
       "    <tr style=\"text-align: right;\">\n",
       "      <th></th>\n",
       "      <th>index</th>\n",
       "      <th>id</th>\n",
       "      <th>title</th>\n",
       "      <th>type</th>\n",
       "      <th>release_year</th>\n",
       "      <th>age_certification</th>\n",
       "      <th>runtime</th>\n",
       "      <th>genres</th>\n",
       "      <th>production_countries</th>\n",
       "      <th>seasons</th>\n",
       "      <th>imdb_id</th>\n",
       "      <th>imdb_score</th>\n",
       "      <th>imdb_votes</th>\n",
       "    </tr>\n",
       "  </thead>\n",
       "  <tbody>\n",
       "    <tr>\n",
       "      <th>0</th>\n",
       "      <td>0</td>\n",
       "      <td>ts300399</td>\n",
       "      <td>Five Came Back: The Reference Films</td>\n",
       "      <td>SHOW</td>\n",
       "      <td>1945</td>\n",
       "      <td>TV-MA</td>\n",
       "      <td>48</td>\n",
       "      <td>documentary</td>\n",
       "      <td>US</td>\n",
       "      <td>1.0</td>\n",
       "      <td>NaN</td>\n",
       "      <td>NaN</td>\n",
       "      <td>NaN</td>\n",
       "    </tr>\n",
       "    <tr>\n",
       "      <th>36</th>\n",
       "      <td>13</td>\n",
       "      <td>tm69997</td>\n",
       "      <td>Richard Pryor: Live in Concert</td>\n",
       "      <td>MOVIE</td>\n",
       "      <td>1979</td>\n",
       "      <td>R</td>\n",
       "      <td>78</td>\n",
       "      <td>documentary</td>\n",
       "      <td>US</td>\n",
       "      <td>NaN</td>\n",
       "      <td>tt0079807</td>\n",
       "      <td>8.1</td>\n",
       "      <td>5141.0</td>\n",
       "    </tr>\n",
       "    <tr>\n",
       "      <th>45</th>\n",
       "      <td>17</td>\n",
       "      <td>tm14491</td>\n",
       "      <td>The Queen</td>\n",
       "      <td>MOVIE</td>\n",
       "      <td>1968</td>\n",
       "      <td>NaN</td>\n",
       "      <td>68</td>\n",
       "      <td>documentary</td>\n",
       "      <td>US</td>\n",
       "      <td>NaN</td>\n",
       "      <td>tt0183686</td>\n",
       "      <td>7.2</td>\n",
       "      <td>1117.0</td>\n",
       "    </tr>\n",
       "    <tr>\n",
       "      <th>46</th>\n",
       "      <td>18</td>\n",
       "      <td>tm89386</td>\n",
       "      <td>Hitler: A Career</td>\n",
       "      <td>MOVIE</td>\n",
       "      <td>1977</td>\n",
       "      <td>PG</td>\n",
       "      <td>150</td>\n",
       "      <td>documentary</td>\n",
       "      <td>DE</td>\n",
       "      <td>NaN</td>\n",
       "      <td>tt0191182</td>\n",
       "      <td>7.5</td>\n",
       "      <td>2416.0</td>\n",
       "    </tr>\n",
       "    <tr>\n",
       "      <th>50</th>\n",
       "      <td>19</td>\n",
       "      <td>tm156453</td>\n",
       "      <td>FTA</td>\n",
       "      <td>MOVIE</td>\n",
       "      <td>1972</td>\n",
       "      <td>R</td>\n",
       "      <td>97</td>\n",
       "      <td>documentary</td>\n",
       "      <td>US</td>\n",
       "      <td>NaN</td>\n",
       "      <td>tt0068562</td>\n",
       "      <td>6.2</td>\n",
       "      <td>411.0</td>\n",
       "    </tr>\n",
       "    <tr>\n",
       "      <th>...</th>\n",
       "      <td>...</td>\n",
       "      <td>...</td>\n",
       "      <td>...</td>\n",
       "      <td>...</td>\n",
       "      <td>...</td>\n",
       "      <td>...</td>\n",
       "      <td>...</td>\n",
       "      <td>...</td>\n",
       "      <td>...</td>\n",
       "      <td>...</td>\n",
       "      <td>...</td>\n",
       "      <td>...</td>\n",
       "      <td>...</td>\n",
       "    </tr>\n",
       "    <tr>\n",
       "      <th>17202</th>\n",
       "      <td>5770</td>\n",
       "      <td>ts307816</td>\n",
       "      <td>Korean Cold Noodle Rhapsody</td>\n",
       "      <td>SHOW</td>\n",
       "      <td>2021</td>\n",
       "      <td>TV-PG</td>\n",
       "      <td>49</td>\n",
       "      <td>documentary</td>\n",
       "      <td>KR</td>\n",
       "      <td>1.0</td>\n",
       "      <td>tt15772846</td>\n",
       "      <td>7.3</td>\n",
       "      <td>15.0</td>\n",
       "    </tr>\n",
       "    <tr>\n",
       "      <th>17209</th>\n",
       "      <td>5775</td>\n",
       "      <td>tm1146635</td>\n",
       "      <td>Daiki Tsuneta: Tokyo Chaotic</td>\n",
       "      <td>MOVIE</td>\n",
       "      <td>2021</td>\n",
       "      <td>NaN</td>\n",
       "      <td>89</td>\n",
       "      <td>documentary</td>\n",
       "      <td>JP</td>\n",
       "      <td>NaN</td>\n",
       "      <td>tt16781874</td>\n",
       "      <td>7.1</td>\n",
       "      <td>15.0</td>\n",
       "    </tr>\n",
       "    <tr>\n",
       "      <th>17213</th>\n",
       "      <td>5777</td>\n",
       "      <td>tm1094060</td>\n",
       "      <td>My Heroes Were Cowboys</td>\n",
       "      <td>MOVIE</td>\n",
       "      <td>2021</td>\n",
       "      <td>PG</td>\n",
       "      <td>23</td>\n",
       "      <td>documentary</td>\n",
       "      <td>US</td>\n",
       "      <td>NaN</td>\n",
       "      <td>tt15084326</td>\n",
       "      <td>NaN</td>\n",
       "      <td>NaN</td>\n",
       "    </tr>\n",
       "    <tr>\n",
       "      <th>17214</th>\n",
       "      <td>5778</td>\n",
       "      <td>tm1046969</td>\n",
       "      <td>Myriam Fares: The Journey</td>\n",
       "      <td>MOVIE</td>\n",
       "      <td>2021</td>\n",
       "      <td>NaN</td>\n",
       "      <td>72</td>\n",
       "      <td>documentary</td>\n",
       "      <td>LB</td>\n",
       "      <td>NaN</td>\n",
       "      <td>tt14773250</td>\n",
       "      <td>2.3</td>\n",
       "      <td>153.0</td>\n",
       "    </tr>\n",
       "    <tr>\n",
       "      <th>17257</th>\n",
       "      <td>5802</td>\n",
       "      <td>tm1108171</td>\n",
       "      <td>Edis Starlight</td>\n",
       "      <td>MOVIE</td>\n",
       "      <td>2021</td>\n",
       "      <td>NaN</td>\n",
       "      <td>74</td>\n",
       "      <td>documentary</td>\n",
       "      <td>NaN</td>\n",
       "      <td>NaN</td>\n",
       "      <td>NaN</td>\n",
       "      <td>NaN</td>\n",
       "      <td>NaN</td>\n",
       "    </tr>\n",
       "  </tbody>\n",
       "</table>\n",
       "<p>1047 rows × 13 columns</p>\n",
       "</div>"
      ],
      "text/plain": [
       "       index         id                                title   type  \\\n",
       "0          0   ts300399  Five Came Back: The Reference Films   SHOW   \n",
       "36        13    tm69997       Richard Pryor: Live in Concert  MOVIE   \n",
       "45        17    tm14491                            The Queen  MOVIE   \n",
       "46        18    tm89386                     Hitler: A Career  MOVIE   \n",
       "50        19   tm156453                                  FTA  MOVIE   \n",
       "...      ...        ...                                  ...    ...   \n",
       "17202   5770   ts307816          Korean Cold Noodle Rhapsody   SHOW   \n",
       "17209   5775  tm1146635         Daiki Tsuneta: Tokyo Chaotic  MOVIE   \n",
       "17213   5777  tm1094060               My Heroes Were Cowboys  MOVIE   \n",
       "17214   5778  tm1046969            Myriam Fares: The Journey  MOVIE   \n",
       "17257   5802  tm1108171                       Edis Starlight  MOVIE   \n",
       "\n",
       "       release_year age_certification  runtime       genres  \\\n",
       "0              1945             TV-MA       48  documentary   \n",
       "36             1979                 R       78  documentary   \n",
       "45             1968               NaN       68  documentary   \n",
       "46             1977                PG      150  documentary   \n",
       "50             1972                 R       97  documentary   \n",
       "...             ...               ...      ...          ...   \n",
       "17202          2021             TV-PG       49  documentary   \n",
       "17209          2021               NaN       89  documentary   \n",
       "17213          2021                PG       23  documentary   \n",
       "17214          2021               NaN       72  documentary   \n",
       "17257          2021               NaN       74  documentary   \n",
       "\n",
       "      production_countries  seasons     imdb_id  imdb_score  imdb_votes  \n",
       "0                       US      1.0         NaN         NaN         NaN  \n",
       "36                      US      NaN   tt0079807         8.1      5141.0  \n",
       "45                      US      NaN   tt0183686         7.2      1117.0  \n",
       "46                      DE      NaN   tt0191182         7.5      2416.0  \n",
       "50                      US      NaN   tt0068562         6.2       411.0  \n",
       "...                    ...      ...         ...         ...         ...  \n",
       "17202                   KR      1.0  tt15772846         7.3        15.0  \n",
       "17209                   JP      NaN  tt16781874         7.1        15.0  \n",
       "17213                   US      NaN  tt15084326         NaN         NaN  \n",
       "17214                   LB      NaN  tt14773250         2.3       153.0  \n",
       "17257                  NaN      NaN         NaN         NaN         NaN  \n",
       "\n",
       "[1047 rows x 13 columns]"
      ]
     },
     "execution_count": 20,
     "metadata": {},
     "output_type": "execute_result"
    }
   ],
   "source": [
    "# Replacing 'documentation' to 'documentary'\n",
    "\n",
    "df6_2 = df6_2.replace({'documentation': 'documentary'})\n",
    "df6_2[df6_2.loc[:, 'genres'] == 'documentary']"
   ]
  },
  {
   "cell_type": "code",
   "execution_count": 21,
   "metadata": {},
   "outputs": [
    {
     "data": {
      "text/html": [
       "<div>\n",
       "<style scoped>\n",
       "    .dataframe tbody tr th:only-of-type {\n",
       "        vertical-align: middle;\n",
       "    }\n",
       "\n",
       "    .dataframe tbody tr th {\n",
       "        vertical-align: top;\n",
       "    }\n",
       "\n",
       "    .dataframe thead th {\n",
       "        text-align: right;\n",
       "    }\n",
       "</style>\n",
       "<table border=\"1\" class=\"dataframe\">\n",
       "  <thead>\n",
       "    <tr style=\"text-align: right;\">\n",
       "      <th></th>\n",
       "      <th>index</th>\n",
       "      <th>id</th>\n",
       "      <th>title</th>\n",
       "      <th>type</th>\n",
       "      <th>release_year</th>\n",
       "      <th>age_certification</th>\n",
       "      <th>runtime</th>\n",
       "      <th>genres</th>\n",
       "      <th>production_countries</th>\n",
       "      <th>seasons</th>\n",
       "      <th>imdb_id</th>\n",
       "      <th>imdb_score</th>\n",
       "      <th>imdb_votes</th>\n",
       "    </tr>\n",
       "  </thead>\n",
       "  <tbody>\n",
       "    <tr>\n",
       "      <th>2434</th>\n",
       "      <td>649</td>\n",
       "      <td>tm226362</td>\n",
       "      <td>Bosta</td>\n",
       "      <td>MOVIE</td>\n",
       "      <td>2005</td>\n",
       "      <td>NaN</td>\n",
       "      <td>112</td>\n",
       "      <td>war</td>\n",
       "      <td>Lebanon</td>\n",
       "      <td>NaN</td>\n",
       "      <td>tt0497335</td>\n",
       "      <td>6.4</td>\n",
       "      <td>603.0</td>\n",
       "    </tr>\n",
       "  </tbody>\n",
       "</table>\n",
       "</div>"
      ],
      "text/plain": [
       "      index        id  title   type  release_year age_certification  runtime  \\\n",
       "2434    649  tm226362  Bosta  MOVIE          2005               NaN      112   \n",
       "\n",
       "     genres production_countries  seasons    imdb_id  imdb_score  imdb_votes  \n",
       "2434    war              Lebanon      NaN  tt0497335         6.4       603.0  "
      ]
     },
     "execution_count": 21,
     "metadata": {},
     "output_type": "execute_result"
    }
   ],
   "source": [
    "df6_2[df6_2.loc[:, 'production_countries'] == 'Lebanon']"
   ]
  },
  {
   "cell_type": "code",
   "execution_count": 22,
   "metadata": {},
   "outputs": [
    {
     "data": {
      "text/html": [
       "<div>\n",
       "<style scoped>\n",
       "    .dataframe tbody tr th:only-of-type {\n",
       "        vertical-align: middle;\n",
       "    }\n",
       "\n",
       "    .dataframe tbody tr th {\n",
       "        vertical-align: top;\n",
       "    }\n",
       "\n",
       "    .dataframe thead th {\n",
       "        text-align: right;\n",
       "    }\n",
       "</style>\n",
       "<table border=\"1\" class=\"dataframe\">\n",
       "  <thead>\n",
       "    <tr style=\"text-align: right;\">\n",
       "      <th></th>\n",
       "      <th>index</th>\n",
       "      <th>id</th>\n",
       "      <th>title</th>\n",
       "      <th>type</th>\n",
       "      <th>release_year</th>\n",
       "      <th>age_certification</th>\n",
       "      <th>runtime</th>\n",
       "      <th>genres</th>\n",
       "      <th>production_countries</th>\n",
       "      <th>seasons</th>\n",
       "      <th>imdb_id</th>\n",
       "      <th>imdb_score</th>\n",
       "      <th>imdb_votes</th>\n",
       "    </tr>\n",
       "  </thead>\n",
       "  <tbody>\n",
       "    <tr>\n",
       "      <th>92</th>\n",
       "      <td>36</td>\n",
       "      <td>tm200475</td>\n",
       "      <td>Beirut, Oh Beirut</td>\n",
       "      <td>MOVIE</td>\n",
       "      <td>1975</td>\n",
       "      <td>NaN</td>\n",
       "      <td>110</td>\n",
       "      <td>drama</td>\n",
       "      <td>LB</td>\n",
       "      <td>NaN</td>\n",
       "      <td>tt0169599</td>\n",
       "      <td>6.5</td>\n",
       "      <td>106.0</td>\n",
       "    </tr>\n",
       "    <tr>\n",
       "      <th>94</th>\n",
       "      <td>37</td>\n",
       "      <td>tm259855</td>\n",
       "      <td>We Are All for the Fatherland</td>\n",
       "      <td>MOVIE</td>\n",
       "      <td>1979</td>\n",
       "      <td>NaN</td>\n",
       "      <td>74</td>\n",
       "      <td>documentary</td>\n",
       "      <td>LB</td>\n",
       "      <td>NaN</td>\n",
       "      <td>tt0170799</td>\n",
       "      <td>6.2</td>\n",
       "      <td>43.0</td>\n",
       "    </tr>\n",
       "    <tr>\n",
       "      <th>97</th>\n",
       "      <td>38</td>\n",
       "      <td>tm259684</td>\n",
       "      <td>Whispers</td>\n",
       "      <td>MOVIE</td>\n",
       "      <td>1980</td>\n",
       "      <td>NaN</td>\n",
       "      <td>93</td>\n",
       "      <td>documentary</td>\n",
       "      <td>LB</td>\n",
       "      <td>NaN</td>\n",
       "      <td>tt0170803</td>\n",
       "      <td>7.8</td>\n",
       "      <td>75.0</td>\n",
       "    </tr>\n",
       "    <tr>\n",
       "      <th>255</th>\n",
       "      <td>95</td>\n",
       "      <td>tm52274</td>\n",
       "      <td>The Little Wars</td>\n",
       "      <td>MOVIE</td>\n",
       "      <td>1982</td>\n",
       "      <td>NaN</td>\n",
       "      <td>108</td>\n",
       "      <td>drama</td>\n",
       "      <td>LB</td>\n",
       "      <td>NaN</td>\n",
       "      <td>tt0084492</td>\n",
       "      <td>6.3</td>\n",
       "      <td>149.0</td>\n",
       "    </tr>\n",
       "    <tr>\n",
       "      <th>257</th>\n",
       "      <td>95</td>\n",
       "      <td>tm52274</td>\n",
       "      <td>The Little Wars</td>\n",
       "      <td>MOVIE</td>\n",
       "      <td>1982</td>\n",
       "      <td>NaN</td>\n",
       "      <td>108</td>\n",
       "      <td>war</td>\n",
       "      <td>LB</td>\n",
       "      <td>NaN</td>\n",
       "      <td>tt0084492</td>\n",
       "      <td>6.3</td>\n",
       "      <td>149.0</td>\n",
       "    </tr>\n",
       "    <tr>\n",
       "      <th>...</th>\n",
       "      <td>...</td>\n",
       "      <td>...</td>\n",
       "      <td>...</td>\n",
       "      <td>...</td>\n",
       "      <td>...</td>\n",
       "      <td>...</td>\n",
       "      <td>...</td>\n",
       "      <td>...</td>\n",
       "      <td>...</td>\n",
       "      <td>...</td>\n",
       "      <td>...</td>\n",
       "      <td>...</td>\n",
       "      <td>...</td>\n",
       "    </tr>\n",
       "    <tr>\n",
       "      <th>14546</th>\n",
       "      <td>4792</td>\n",
       "      <td>ts236850</td>\n",
       "      <td>Children of Adam</td>\n",
       "      <td>SHOW</td>\n",
       "      <td>2020</td>\n",
       "      <td>TV-14</td>\n",
       "      <td>41</td>\n",
       "      <td>action</td>\n",
       "      <td>LB</td>\n",
       "      <td>1.0</td>\n",
       "      <td>tt12434912</td>\n",
       "      <td>7.8</td>\n",
       "      <td>170.0</td>\n",
       "    </tr>\n",
       "    <tr>\n",
       "      <th>14547</th>\n",
       "      <td>4792</td>\n",
       "      <td>ts236850</td>\n",
       "      <td>Children of Adam</td>\n",
       "      <td>SHOW</td>\n",
       "      <td>2020</td>\n",
       "      <td>TV-14</td>\n",
       "      <td>41</td>\n",
       "      <td>drama</td>\n",
       "      <td>LB</td>\n",
       "      <td>1.0</td>\n",
       "      <td>tt12434912</td>\n",
       "      <td>7.8</td>\n",
       "      <td>170.0</td>\n",
       "    </tr>\n",
       "    <tr>\n",
       "      <th>16729</th>\n",
       "      <td>5543</td>\n",
       "      <td>ts285854</td>\n",
       "      <td>Till Death</td>\n",
       "      <td>SHOW</td>\n",
       "      <td>2021</td>\n",
       "      <td>TV-MA</td>\n",
       "      <td>53</td>\n",
       "      <td>drama</td>\n",
       "      <td>LB</td>\n",
       "      <td>2.0</td>\n",
       "      <td>NaN</td>\n",
       "      <td>NaN</td>\n",
       "      <td>NaN</td>\n",
       "    </tr>\n",
       "    <tr>\n",
       "      <th>17214</th>\n",
       "      <td>5778</td>\n",
       "      <td>tm1046969</td>\n",
       "      <td>Myriam Fares: The Journey</td>\n",
       "      <td>MOVIE</td>\n",
       "      <td>2021</td>\n",
       "      <td>NaN</td>\n",
       "      <td>72</td>\n",
       "      <td>documentary</td>\n",
       "      <td>LB</td>\n",
       "      <td>NaN</td>\n",
       "      <td>tt14773250</td>\n",
       "      <td>2.3</td>\n",
       "      <td>153.0</td>\n",
       "    </tr>\n",
       "    <tr>\n",
       "      <th>17215</th>\n",
       "      <td>5778</td>\n",
       "      <td>tm1046969</td>\n",
       "      <td>Myriam Fares: The Journey</td>\n",
       "      <td>MOVIE</td>\n",
       "      <td>2021</td>\n",
       "      <td>NaN</td>\n",
       "      <td>72</td>\n",
       "      <td>music</td>\n",
       "      <td>LB</td>\n",
       "      <td>NaN</td>\n",
       "      <td>tt14773250</td>\n",
       "      <td>2.3</td>\n",
       "      <td>153.0</td>\n",
       "    </tr>\n",
       "  </tbody>\n",
       "</table>\n",
       "<p>67 rows × 13 columns</p>\n",
       "</div>"
      ],
      "text/plain": [
       "       index         id                          title   type  release_year  \\\n",
       "92        36   tm200475              Beirut, Oh Beirut  MOVIE          1975   \n",
       "94        37   tm259855  We Are All for the Fatherland  MOVIE          1979   \n",
       "97        38   tm259684                       Whispers  MOVIE          1980   \n",
       "255       95    tm52274                The Little Wars  MOVIE          1982   \n",
       "257       95    tm52274                The Little Wars  MOVIE          1982   \n",
       "...      ...        ...                            ...    ...           ...   \n",
       "14546   4792   ts236850               Children of Adam   SHOW          2020   \n",
       "14547   4792   ts236850               Children of Adam   SHOW          2020   \n",
       "16729   5543   ts285854                     Till Death   SHOW          2021   \n",
       "17214   5778  tm1046969      Myriam Fares: The Journey  MOVIE          2021   \n",
       "17215   5778  tm1046969      Myriam Fares: The Journey  MOVIE          2021   \n",
       "\n",
       "      age_certification  runtime       genres production_countries  seasons  \\\n",
       "92                  NaN      110        drama                   LB      NaN   \n",
       "94                  NaN       74  documentary                   LB      NaN   \n",
       "97                  NaN       93  documentary                   LB      NaN   \n",
       "255                 NaN      108        drama                   LB      NaN   \n",
       "257                 NaN      108          war                   LB      NaN   \n",
       "...                 ...      ...          ...                  ...      ...   \n",
       "14546             TV-14       41       action                   LB      1.0   \n",
       "14547             TV-14       41        drama                   LB      1.0   \n",
       "16729             TV-MA       53        drama                   LB      2.0   \n",
       "17214               NaN       72  documentary                   LB      NaN   \n",
       "17215               NaN       72        music                   LB      NaN   \n",
       "\n",
       "          imdb_id  imdb_score  imdb_votes  \n",
       "92      tt0169599         6.5       106.0  \n",
       "94      tt0170799         6.2        43.0  \n",
       "97      tt0170803         7.8        75.0  \n",
       "255     tt0084492         6.3       149.0  \n",
       "257     tt0084492         6.3       149.0  \n",
       "...           ...         ...         ...  \n",
       "14546  tt12434912         7.8       170.0  \n",
       "14547  tt12434912         7.8       170.0  \n",
       "16729         NaN         NaN         NaN  \n",
       "17214  tt14773250         2.3       153.0  \n",
       "17215  tt14773250         2.3       153.0  \n",
       "\n",
       "[67 rows x 13 columns]"
      ]
     },
     "execution_count": 22,
     "metadata": {},
     "output_type": "execute_result"
    }
   ],
   "source": [
    "# Replacing 'Lebanon' to 'documentary'\n",
    "\n",
    "df6_2 = df6_2.replace({'Lebanon': 'LB'})\n",
    "df6_2[df6_2.loc[:, 'production_countries'] == 'LB']"
   ]
  },
  {
   "cell_type": "code",
   "execution_count": 23,
   "metadata": {},
   "outputs": [],
   "source": [
    "# Changing the index of a dataset.\n",
    "\n",
    "df6_2.drop('index', axis=1, inplace=True)\n",
    "\n",
    "df6_2['index'] = df6_2.index\n",
    "df6_2.insert(0, 'index', df6_2.pop('index'))"
   ]
  },
  {
   "cell_type": "code",
   "execution_count": 24,
   "metadata": {},
   "outputs": [
    {
     "data": {
      "text/html": [
       "<div>\n",
       "<style scoped>\n",
       "    .dataframe tbody tr th:only-of-type {\n",
       "        vertical-align: middle;\n",
       "    }\n",
       "\n",
       "    .dataframe tbody tr th {\n",
       "        vertical-align: top;\n",
       "    }\n",
       "\n",
       "    .dataframe thead th {\n",
       "        text-align: right;\n",
       "    }\n",
       "</style>\n",
       "<table border=\"1\" class=\"dataframe\">\n",
       "  <thead>\n",
       "    <tr style=\"text-align: right;\">\n",
       "      <th></th>\n",
       "      <th>index</th>\n",
       "      <th>id</th>\n",
       "      <th>title</th>\n",
       "      <th>type</th>\n",
       "      <th>release_year</th>\n",
       "      <th>age_certification</th>\n",
       "      <th>runtime</th>\n",
       "      <th>genres</th>\n",
       "      <th>production_countries</th>\n",
       "      <th>seasons</th>\n",
       "      <th>imdb_id</th>\n",
       "      <th>imdb_score</th>\n",
       "      <th>imdb_votes</th>\n",
       "    </tr>\n",
       "  </thead>\n",
       "  <tbody>\n",
       "    <tr>\n",
       "      <th>0</th>\n",
       "      <td>0</td>\n",
       "      <td>ts300399</td>\n",
       "      <td>Five Came Back: The Reference Films</td>\n",
       "      <td>SHOW</td>\n",
       "      <td>1945</td>\n",
       "      <td>TV-MA</td>\n",
       "      <td>48</td>\n",
       "      <td>documentary</td>\n",
       "      <td>US</td>\n",
       "      <td>1.0</td>\n",
       "      <td>NaN</td>\n",
       "      <td>NaN</td>\n",
       "      <td>NaN</td>\n",
       "    </tr>\n",
       "    <tr>\n",
       "      <th>1</th>\n",
       "      <td>1</td>\n",
       "      <td>tm84618</td>\n",
       "      <td>Taxi Driver</td>\n",
       "      <td>MOVIE</td>\n",
       "      <td>1976</td>\n",
       "      <td>R</td>\n",
       "      <td>113</td>\n",
       "      <td>crime</td>\n",
       "      <td>US</td>\n",
       "      <td>NaN</td>\n",
       "      <td>tt0075314</td>\n",
       "      <td>8.3</td>\n",
       "      <td>795222.0</td>\n",
       "    </tr>\n",
       "    <tr>\n",
       "      <th>2</th>\n",
       "      <td>2</td>\n",
       "      <td>tm84618</td>\n",
       "      <td>Taxi Driver</td>\n",
       "      <td>MOVIE</td>\n",
       "      <td>1976</td>\n",
       "      <td>R</td>\n",
       "      <td>113</td>\n",
       "      <td>drama</td>\n",
       "      <td>US</td>\n",
       "      <td>NaN</td>\n",
       "      <td>tt0075314</td>\n",
       "      <td>8.3</td>\n",
       "      <td>795222.0</td>\n",
       "    </tr>\n",
       "    <tr>\n",
       "      <th>3</th>\n",
       "      <td>3</td>\n",
       "      <td>tm127384</td>\n",
       "      <td>Monty Python and the Holy Grail</td>\n",
       "      <td>MOVIE</td>\n",
       "      <td>1975</td>\n",
       "      <td>PG</td>\n",
       "      <td>91</td>\n",
       "      <td>comedy</td>\n",
       "      <td>GB</td>\n",
       "      <td>NaN</td>\n",
       "      <td>tt0071853</td>\n",
       "      <td>8.2</td>\n",
       "      <td>530877.0</td>\n",
       "    </tr>\n",
       "    <tr>\n",
       "      <th>4</th>\n",
       "      <td>4</td>\n",
       "      <td>tm127384</td>\n",
       "      <td>Monty Python and the Holy Grail</td>\n",
       "      <td>MOVIE</td>\n",
       "      <td>1975</td>\n",
       "      <td>PG</td>\n",
       "      <td>91</td>\n",
       "      <td>fantasy</td>\n",
       "      <td>GB</td>\n",
       "      <td>NaN</td>\n",
       "      <td>tt0071853</td>\n",
       "      <td>8.2</td>\n",
       "      <td>530877.0</td>\n",
       "    </tr>\n",
       "  </tbody>\n",
       "</table>\n",
       "</div>"
      ],
      "text/plain": [
       "   index        id                                title   type  release_year  \\\n",
       "0      0  ts300399  Five Came Back: The Reference Films   SHOW          1945   \n",
       "1      1   tm84618                          Taxi Driver  MOVIE          1976   \n",
       "2      2   tm84618                          Taxi Driver  MOVIE          1976   \n",
       "3      3  tm127384      Monty Python and the Holy Grail  MOVIE          1975   \n",
       "4      4  tm127384      Monty Python and the Holy Grail  MOVIE          1975   \n",
       "\n",
       "  age_certification  runtime       genres production_countries  seasons  \\\n",
       "0             TV-MA       48  documentary                   US      1.0   \n",
       "1                 R      113        crime                   US      NaN   \n",
       "2                 R      113        drama                   US      NaN   \n",
       "3                PG       91       comedy                   GB      NaN   \n",
       "4                PG       91      fantasy                   GB      NaN   \n",
       "\n",
       "     imdb_id  imdb_score  imdb_votes  \n",
       "0        NaN         NaN         NaN  \n",
       "1  tt0075314         8.3    795222.0  \n",
       "2  tt0075314         8.3    795222.0  \n",
       "3  tt0071853         8.2    530877.0  \n",
       "4  tt0071853         8.2    530877.0  "
      ]
     },
     "execution_count": 24,
     "metadata": {},
     "output_type": "execute_result"
    }
   ],
   "source": [
    "df6_2.head()"
   ]
  },
  {
   "cell_type": "code",
   "execution_count": 25,
   "metadata": {},
   "outputs": [
    {
     "data": {
      "text/plain": [
       "2047     1\n",
       "12915    1\n",
       "17037    1\n",
       "4743     1\n",
       "6790     1\n",
       "        ..\n",
       "1322     1\n",
       "7465     1\n",
       "5416     1\n",
       "11551    1\n",
       "0        1\n",
       "Name: index, Length: 17267, dtype: int64"
      ]
     },
     "execution_count": 25,
     "metadata": {},
     "output_type": "execute_result"
    }
   ],
   "source": [
    "df6_2['index'].value_counts()"
   ]
  },
  {
   "cell_type": "code",
   "execution_count": 26,
   "metadata": {},
   "outputs": [
    {
     "name": "stdout",
     "output_type": "stream",
     "text": [
      "Column: index\n",
      "Value length: 5\n",
      "Row possition: 10000 \n",
      "\n",
      "Column: id\n",
      "Value length: 9\n",
      "Row possition: 2526 \n",
      "\n",
      "Column: title\n",
      "Value length: 104\n",
      "Row possition: 6777 \n",
      "\n",
      "Column: type\n",
      "Value length: 5\n",
      "Row possition: 1 \n",
      "\n",
      "Column: release_year\n",
      "Value length: 4\n",
      "Row possition: 0 \n",
      "\n",
      "Column: age_certification\n",
      "Value length: 5\n",
      "Row possition: 0 \n",
      "\n",
      "Column: runtime\n",
      "Value length: 3\n",
      "Row possition: 1 \n",
      "\n",
      "Column: genres\n",
      "Value length: 11\n",
      "Row possition: 0 \n",
      "\n",
      "Column: production_countries\n",
      "Value length: 3\n",
      "Row possition: 80 \n",
      "\n",
      "Column: seasons\n",
      "Value length: 4\n",
      "Row possition: 158 \n",
      "\n",
      "Column: imdb_id\n",
      "Value length: 10\n",
      "Row possition: 233 \n",
      "\n",
      "Column: imdb_score\n",
      "Value length: 3\n",
      "Row possition: 0 \n",
      "\n",
      "Column: imdb_votes\n",
      "Value length: 9\n",
      "Row possition: 297 \n",
      "\n"
     ]
    }
   ],
   "source": [
    "df6_val_len = longest_value(df6_2)"
   ]
  },
  {
   "cell_type": "code",
   "execution_count": 27,
   "metadata": {},
   "outputs": [
    {
     "name": "stdout",
     "output_type": "stream",
     "text": [
      "Path to save location: ../data/output\n",
      "File name: new_raw_titles_2nf\n"
     ]
    }
   ],
   "source": [
    "# Saving the dataframe.\n",
    "\n",
    "df6_csv = save_to_csv(df6_2)"
   ]
  },
  {
   "cell_type": "markdown",
   "metadata": {},
   "source": [
    "## Files in ../data/output location"
   ]
  },
  {
   "cell_type": "code",
   "execution_count": 83,
   "metadata": {},
   "outputs": [
    {
     "name": "stdout",
     "output_type": "stream",
     "text": [
      "Enter a path to the files: ../data/output\n",
      "best_movies_2nf.csv\n",
      "best_movie_by_year_2nf.csv\n",
      "best_shows_2nf.csv\n",
      "best_show_by_year_2nf.csv\n",
      "raw_credits_2NF.csv\n",
      "raw_titles_2NF.csv\n"
     ]
    }
   ],
   "source": [
    "output_files = path_to_files()"
   ]
  },
  {
   "cell_type": "code",
   "execution_count": null,
   "metadata": {},
   "outputs": [],
   "source": []
  }
 ],
 "metadata": {
  "kernelspec": {
   "display_name": "Python 3",
   "language": "python",
   "name": "python3"
  },
  "language_info": {
   "codemirror_mode": {
    "name": "ipython",
    "version": 3
   },
   "file_extension": ".py",
   "mimetype": "text/x-python",
   "name": "python",
   "nbconvert_exporter": "python",
   "pygments_lexer": "ipython3",
   "version": "3.8.5"
  }
 },
 "nbformat": 4,
 "nbformat_minor": 4
}
